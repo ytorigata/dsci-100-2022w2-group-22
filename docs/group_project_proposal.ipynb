{
 "cells": [
  {
   "cell_type": "markdown",
   "id": "404af0eb-47cd-4913-a64b-cb3dcbceb58c",
   "metadata": {},
   "source": [
    "# Group Project Proposal"
   ]
  },
  {
   "cell_type": "code",
   "execution_count": null,
   "id": "dd02270f-8e4e-4218-8456-29a85cb88fa4",
   "metadata": {},
   "outputs": [],
   "source": []
  }
 ],
 "metadata": {
  "kernelspec": {
   "display_name": "Python 3 (ipykernel)",
   "language": "python",
   "name": "python3"
  },
  "language_info": {
   "codemirror_mode": {
    "name": "ipython",
    "version": 3
   },
   "file_extension": ".py",
   "mimetype": "text/x-python",
   "name": "python",
   "nbconvert_exporter": "python",
   "pygments_lexer": "ipython3",
   "version": "3.10.8"
  }
 },
 "nbformat": 4,
 "nbformat_minor": 5
}
