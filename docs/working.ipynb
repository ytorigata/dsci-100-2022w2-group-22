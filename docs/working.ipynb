{
 "cells": [
  {
   "cell_type": "markdown",
   "id": "2b0b2730-4560-4c5b-8c11-e936c986e9f4",
   "metadata": {},
   "source": [
    "# Summary of Preliminary Analysis"
   ]
  },
  {
   "cell_type": "markdown",
   "id": "3265e285-8366-454c-a171-9fdcdf44a8fa",
   "metadata": {},
   "source": [
    "This notebook is for tempral work to think about what we shuold do in our actual analysis. First, we summarize the result of our preliminary analysis in the proposal."
   ]
  },
  {
   "cell_type": "code",
   "execution_count": 1,
   "id": "0ea51e7e-3926-4da8-b959-f8780f59da50",
   "metadata": {},
   "outputs": [],
   "source": [
    "import altair as alt\n",
    "import numpy as np\n",
    "np.random.seed(2023)\n",
    "import pandas as pd\n",
    "from sklearn.compose import make_column_transformer\n",
    "from sklearn.metrics import confusion_matrix\n",
    "from sklearn.metrics import ConfusionMatrixDisplay\n",
    "from sklearn.model_selection import cross_validate\n",
    "from sklearn.model_selection import GridSearchCV\n",
    "from sklearn.model_selection import RandomizedSearchCV\n",
    "from sklearn.model_selection import train_test_split\n",
    "from sklearn.preprocessing import StandardScaler\n",
    "from sklearn.pipeline import make_pipeline"
   ]
  },
  {
   "cell_type": "code",
   "execution_count": 2,
   "id": "5d3fd417-a40f-4086-9127-01e538655c46",
   "metadata": {},
   "outputs": [],
   "source": [
    "# This cleaning-up procedure is mostly the same as our proposal\n",
    "# We added some steps to omit rows containing unclassified values\n",
    "url = \"https://archive.ics.uci.edu/ml/machine-learning-databases/heart-disease/processed.cleveland.data\"\n",
    "\n",
    "original_data = pd.read_csv(url, names=[\n",
    "    \"age\", \n",
    "    \"sex\", \n",
    "    \"chest_pain\", \n",
    "    \"resting_blood_pressure\", \n",
    "    \"cholesterol\", \n",
    "    \"fasting_blood_sugar\", \n",
    "    \"resting_electrocardiographic_results\", \n",
    "    \"max_heart_rate\",\n",
    "    \"exercise_induced_angina\",  \n",
    "    \"st_depression_exercise\", \n",
    "    \"slope_st\", \n",
    "    \"major_vessels\", \n",
    "    \"thal\",\n",
    "    \"diagnosis\"\n",
    "])\n",
    "\n",
    "hd_data = original_data.dropna(how='all')\n",
    "\n",
    "# omit rows containing unclassified values\n",
    "hd_data = hd_data.drop(\n",
    "    hd_data[hd_data.major_vessels == '?'].index\n",
    ")\n",
    "hd_data[\"major_vessels\"] = pd.to_numeric(hd_data[\"major_vessels\"])\n",
    "\n",
    "hd_data = hd_data.drop(\n",
    "    hd_data[hd_data.thal == '?'].index\n",
    ")"
   ]
  },
  {
   "cell_type": "code",
   "execution_count": 3,
   "id": "a2dbeaf4-6124-435e-a0f9-fbfd92ce693c",
   "metadata": {},
   "outputs": [],
   "source": [
    "# replace numeric values with categorical lables for categorical variables \n",
    "# except for 'resting_electrocardiographic_results' which requires a long description for each label\n",
    "hd_data[\"sex\"] = hd_data[\"sex\"].apply(lambda x: \"male\" if (x == 1.0) else \"female\")\n",
    "\n",
    "hd_data[\"chest_pain\"] = hd_data[\"chest_pain\"].replace({\n",
    "    1: 'Typical angina',\n",
    "    2: 'Atypical angina',\n",
    "    3: 'Non-anginal pain',\n",
    "    4: 'Asymptomatic'\n",
    "})\n",
    "\n",
    "hd_data[\"fasting_blood_sugar\"] = hd_data[\"fasting_blood_sugar\"].apply(lambda x: True if (x == 1.0) else False)\n",
    "\n",
    "hd_data[\"exercise_induced_angina\"] = hd_data[\"exercise_induced_angina\"].apply(lambda x: 'Yes' if (x == 1.0) else 'No')\n",
    "\n",
    "hd_data[\"slope_st\"] = hd_data[\"slope_st\"].replace({\n",
    "    1.0: 'Upsloping',\n",
    "    2.0: 'Flat',\n",
    "    3.0: 'Downsloping'\n",
    "})\n",
    "\n",
    "hd_data[\"thal\"] = hd_data[\"thal\"].replace({\n",
    "    '3.0': 'Normal',\n",
    "    '6.0': 'Fixed defect',\n",
    "    '7.0': 'Rreversable defect'\n",
    "})\n"
   ]
  },
  {
   "cell_type": "code",
   "execution_count": 4,
   "id": "987bb728-0841-4f92-af05-a45fab495236",
   "metadata": {},
   "outputs": [
    {
     "data": {
      "text/html": [
       "<div>\n",
       "<style scoped>\n",
       "    .dataframe tbody tr th:only-of-type {\n",
       "        vertical-align: middle;\n",
       "    }\n",
       "\n",
       "    .dataframe tbody tr th {\n",
       "        vertical-align: top;\n",
       "    }\n",
       "\n",
       "    .dataframe thead th {\n",
       "        text-align: right;\n",
       "    }\n",
       "</style>\n",
       "<table border=\"1\" class=\"dataframe\">\n",
       "  <thead>\n",
       "    <tr style=\"text-align: right;\">\n",
       "      <th></th>\n",
       "      <th>age</th>\n",
       "      <th>sex</th>\n",
       "      <th>chest_pain</th>\n",
       "      <th>resting_blood_pressure</th>\n",
       "      <th>cholesterol</th>\n",
       "      <th>fasting_blood_sugar</th>\n",
       "      <th>resting_electrocardiographic_results</th>\n",
       "      <th>max_heart_rate</th>\n",
       "      <th>exercise_induced_angina</th>\n",
       "      <th>st_depression_exercise</th>\n",
       "      <th>slope_st</th>\n",
       "      <th>major_vessels</th>\n",
       "      <th>thal</th>\n",
       "      <th>heart_disease</th>\n",
       "    </tr>\n",
       "  </thead>\n",
       "  <tbody>\n",
       "    <tr>\n",
       "      <th>0</th>\n",
       "      <td>63.0</td>\n",
       "      <td>male</td>\n",
       "      <td>Typical angina</td>\n",
       "      <td>145.0</td>\n",
       "      <td>233.0</td>\n",
       "      <td>True</td>\n",
       "      <td>2.0</td>\n",
       "      <td>150.0</td>\n",
       "      <td>No</td>\n",
       "      <td>2.3</td>\n",
       "      <td>Downsloping</td>\n",
       "      <td>0.0</td>\n",
       "      <td>Fixed defect</td>\n",
       "      <td>undiagnosed</td>\n",
       "    </tr>\n",
       "    <tr>\n",
       "      <th>1</th>\n",
       "      <td>67.0</td>\n",
       "      <td>male</td>\n",
       "      <td>Asymptomatic</td>\n",
       "      <td>160.0</td>\n",
       "      <td>286.0</td>\n",
       "      <td>False</td>\n",
       "      <td>2.0</td>\n",
       "      <td>108.0</td>\n",
       "      <td>Yes</td>\n",
       "      <td>1.5</td>\n",
       "      <td>Flat</td>\n",
       "      <td>3.0</td>\n",
       "      <td>Normal</td>\n",
       "      <td>diagnosed</td>\n",
       "    </tr>\n",
       "    <tr>\n",
       "      <th>2</th>\n",
       "      <td>67.0</td>\n",
       "      <td>male</td>\n",
       "      <td>Asymptomatic</td>\n",
       "      <td>120.0</td>\n",
       "      <td>229.0</td>\n",
       "      <td>False</td>\n",
       "      <td>2.0</td>\n",
       "      <td>129.0</td>\n",
       "      <td>Yes</td>\n",
       "      <td>2.6</td>\n",
       "      <td>Flat</td>\n",
       "      <td>2.0</td>\n",
       "      <td>Rreversable defect</td>\n",
       "      <td>diagnosed</td>\n",
       "    </tr>\n",
       "    <tr>\n",
       "      <th>3</th>\n",
       "      <td>37.0</td>\n",
       "      <td>male</td>\n",
       "      <td>Non-anginal pain</td>\n",
       "      <td>130.0</td>\n",
       "      <td>250.0</td>\n",
       "      <td>False</td>\n",
       "      <td>0.0</td>\n",
       "      <td>187.0</td>\n",
       "      <td>No</td>\n",
       "      <td>3.5</td>\n",
       "      <td>Downsloping</td>\n",
       "      <td>0.0</td>\n",
       "      <td>Normal</td>\n",
       "      <td>undiagnosed</td>\n",
       "    </tr>\n",
       "    <tr>\n",
       "      <th>4</th>\n",
       "      <td>41.0</td>\n",
       "      <td>female</td>\n",
       "      <td>Atypical angina</td>\n",
       "      <td>130.0</td>\n",
       "      <td>204.0</td>\n",
       "      <td>False</td>\n",
       "      <td>2.0</td>\n",
       "      <td>172.0</td>\n",
       "      <td>No</td>\n",
       "      <td>1.4</td>\n",
       "      <td>Upsloping</td>\n",
       "      <td>0.0</td>\n",
       "      <td>Normal</td>\n",
       "      <td>undiagnosed</td>\n",
       "    </tr>\n",
       "  </tbody>\n",
       "</table>\n",
       "</div>"
      ],
      "text/plain": [
       "    age     sex        chest_pain  resting_blood_pressure  cholesterol  \\\n",
       "0  63.0    male    Typical angina                   145.0        233.0   \n",
       "1  67.0    male      Asymptomatic                   160.0        286.0   \n",
       "2  67.0    male      Asymptomatic                   120.0        229.0   \n",
       "3  37.0    male  Non-anginal pain                   130.0        250.0   \n",
       "4  41.0  female   Atypical angina                   130.0        204.0   \n",
       "\n",
       "   fasting_blood_sugar  resting_electrocardiographic_results  max_heart_rate  \\\n",
       "0                 True                                   2.0           150.0   \n",
       "1                False                                   2.0           108.0   \n",
       "2                False                                   2.0           129.0   \n",
       "3                False                                   0.0           187.0   \n",
       "4                False                                   2.0           172.0   \n",
       "\n",
       "  exercise_induced_angina  st_depression_exercise     slope_st  major_vessels  \\\n",
       "0                      No                     2.3  Downsloping            0.0   \n",
       "1                     Yes                     1.5         Flat            3.0   \n",
       "2                     Yes                     2.6         Flat            2.0   \n",
       "3                      No                     3.5  Downsloping            0.0   \n",
       "4                      No                     1.4    Upsloping            0.0   \n",
       "\n",
       "                 thal heart_disease  \n",
       "0        Fixed defect   undiagnosed  \n",
       "1              Normal     diagnosed  \n",
       "2  Rreversable defect     diagnosed  \n",
       "3              Normal   undiagnosed  \n",
       "4              Normal   undiagnosed  "
      ]
     },
     "execution_count": 4,
     "metadata": {},
     "output_type": "execute_result"
    }
   ],
   "source": [
    "# define a column, 'heart_disease', based on the 'diagnosis' column and drop 'diagnosis'\n",
    "hd_data[\"heart_disease\"] = hd_data[\"diagnosis\"].apply(\n",
    "    lambda x: \"undiagnosed\" if (x == 0) else \"diagnosed\")\n",
    "hd_data = hd_data.drop(columns=[\"diagnosis\"])\n",
    "\n",
    "hd_data.head()"
   ]
  },
  {
   "cell_type": "markdown",
   "id": "b5e71003-badf-4a8a-8a98-a7e385110ad4",
   "metadata": {},
   "source": [
    "Now we have a 14-column dataset that contains six numerical variables and eight categorical variables. We will show the summary of the culumns in the foolowing table with the possibility of correlation which we determined in our preliminary analysis.\n",
    "\n",
    "| # | Variable | Description | Value | Possible Correlation |\n",
    "|---|----------|-------------|-------|----------------------|\n",
    "| 1 | age | Individual's age | numerical | Yes |\n",
    "| 2 | sex | Individual's sex | male or female | Yes |\n",
    "| 3 | chest_pain | Chest pain type | Typical angina, Atypical angina, Non-anginal pain, or Asymptomatic | Yes |\n",
    "| 4 | resting_blood_pressure | Resting blood pressure (in mm Hg on admission to the hospital) | numerical | worth checking again (See the below Note 1) |\n",
    "| 5 | cholesterol | Serum cholestoral in mg/dL | numerical | need re-analysis (See the below Note 2) |\n",
    "| 6 | fasting_blood_sugar | Fasting blood sugar > 120 mg/dL | True or False | No |\n",
    "| 7 | resting_electrocardiographic_results | Resting electrocardiographic results | <ul><li>0: normal</li><li>1: having ST-T wave abnormality (T wave inversions and/or ST elevation or depression of > 0.05 mV)</li><li>2: showing probable or definite left ventricular hypertrophy by Estes' criteria</li></ul> | No |\n",
    "| 8 | max_heart_rate | Maximum heart rate achieved | numerical | Yes |\n",
    "| 9 | exercise_induced_angina | Exercise induced angina | Yes or No | Yes |\n",
    "| 10 | st_depression_exercise | ST depression induced by exercise relative to rest | numerical | Yes |\n",
    "| 11 | slope_st | The slope of the peak exercise ST segment | Upsloping, Flat, or Downsloping | Yes (but too technical) |\n",
    "| 12 | major_vessels | Number of major vessels (0-3) colored by flourosopy | numerical | Yes |\n",
    "| 13 | thal | Thalassemia | Normal, Fixed defect, or Reversable defect | Yes |\n",
    "| 14 | heart_disease | Diagnosis of presence of heart disease | diagnosed or undiagnosed | NA |"
   ]
  },
  {
   "cell_type": "markdown",
   "id": "ae04bdc9-5913-493c-92ea-364504b17ebf",
   "metadata": {},
   "source": [
    "Note 1: For `resting_blood_pressure`, we concluded the variable does not seem to have correlation with heart disease diganosis. However, it seems a pattern in the visualization; the samples diagnosed to heart disease seem to have higher blood pressure. So, we might consider including this variable into our analysis.\n",
    "\n",
    "Note 2: For `cholesterol`, our preliminary analysis was not correctly done. As the later part of scaling and centering will show, the mean value of the serum cholesterol is about 246 mg/dL. Compared to this value, the visualization in our proposal does not seem to properly represent the observations of this variable. So, we may redo the analysis before actual analysis."
   ]
  },
  {
   "cell_type": "markdown",
   "id": "54ccc858-8541-4a1d-aa42-581e0bd21c7e",
   "metadata": {
    "tags": []
   },
   "source": [
    "## Data Analysis\n",
    "\n",
    "### Training Data and Test Data\n",
    "\n",
    "We will obtain a training data and a test data from the data that we have cleaned-up and use only *the training data*, `hd_train`, from now on. We will stratify the target column `heart_disease` to preserve the class proportion."
   ]
  },
  {
   "cell_type": "code",
   "execution_count": 5,
   "id": "13a770cf-1b04-4b0f-9608-d77be1729a97",
   "metadata": {},
   "outputs": [
    {
     "name": "stdout",
     "output_type": "stream",
     "text": [
      "undiagnosed    0.540541\n",
      "diagnosed      0.459459\n",
      "Name: heart_disease, dtype: float64\n",
      "undiagnosed    0.533333\n",
      "diagnosed      0.466667\n",
      "Name: heart_disease, dtype: float64\n"
     ]
    }
   ],
   "source": [
    "hd_train, hd_test = train_test_split(hd_data, test_size=0.25, stratify=hd_data[\"heart_disease\"])\n",
    "print(hd_train[\"heart_disease\"].value_counts(normalize=True))\n",
    "print(hd_test[\"heart_disease\"].value_counts(normalize=True))"
   ]
  },
  {
   "cell_type": "markdown",
   "id": "b9914f3d-a623-47bc-b208-861ef1bd9288",
   "metadata": {},
   "source": [
    "We will check some statistics for all six numeric variables in our training data, `hd_train`."
   ]
  },
  {
   "cell_type": "code",
   "execution_count": 6,
   "id": "69aed050-574c-4967-9864-8b87035da277",
   "metadata": {
    "tags": []
   },
   "outputs": [
    {
     "data": {
      "text/html": [
       "<div>\n",
       "<style scoped>\n",
       "    .dataframe tbody tr th:only-of-type {\n",
       "        vertical-align: middle;\n",
       "    }\n",
       "\n",
       "    .dataframe tbody tr th {\n",
       "        vertical-align: top;\n",
       "    }\n",
       "\n",
       "    .dataframe thead th {\n",
       "        text-align: right;\n",
       "    }\n",
       "</style>\n",
       "<table border=\"1\" class=\"dataframe\">\n",
       "  <thead>\n",
       "    <tr style=\"text-align: right;\">\n",
       "      <th></th>\n",
       "      <th>mean</th>\n",
       "      <th>median</th>\n",
       "      <th>min</th>\n",
       "      <th>max</th>\n",
       "    </tr>\n",
       "  </thead>\n",
       "  <tbody>\n",
       "    <tr>\n",
       "      <th>age</th>\n",
       "      <td>54.20</td>\n",
       "      <td>55.0</td>\n",
       "      <td>34.0</td>\n",
       "      <td>77.0</td>\n",
       "    </tr>\n",
       "    <tr>\n",
       "      <th>resting_blood_pressure</th>\n",
       "      <td>130.86</td>\n",
       "      <td>130.0</td>\n",
       "      <td>94.0</td>\n",
       "      <td>192.0</td>\n",
       "    </tr>\n",
       "    <tr>\n",
       "      <th>cholesterol</th>\n",
       "      <td>245.27</td>\n",
       "      <td>240.0</td>\n",
       "      <td>131.0</td>\n",
       "      <td>564.0</td>\n",
       "    </tr>\n",
       "    <tr>\n",
       "      <th>max_heart_rate</th>\n",
       "      <td>149.65</td>\n",
       "      <td>153.5</td>\n",
       "      <td>88.0</td>\n",
       "      <td>195.0</td>\n",
       "    </tr>\n",
       "    <tr>\n",
       "      <th>st_depression_exercise</th>\n",
       "      <td>1.06</td>\n",
       "      <td>0.8</td>\n",
       "      <td>0.0</td>\n",
       "      <td>5.6</td>\n",
       "    </tr>\n",
       "    <tr>\n",
       "      <th>major_vessels</th>\n",
       "      <td>0.64</td>\n",
       "      <td>0.0</td>\n",
       "      <td>0.0</td>\n",
       "      <td>3.0</td>\n",
       "    </tr>\n",
       "  </tbody>\n",
       "</table>\n",
       "</div>"
      ],
      "text/plain": [
       "                          mean  median    min    max\n",
       "age                      54.20    55.0   34.0   77.0\n",
       "resting_blood_pressure  130.86   130.0   94.0  192.0\n",
       "cholesterol             245.27   240.0  131.0  564.0\n",
       "max_heart_rate          149.65   153.5   88.0  195.0\n",
       "st_depression_exercise    1.06     0.8    0.0    5.6\n",
       "major_vessels             0.64     0.0    0.0    3.0"
      ]
     },
     "execution_count": 6,
     "metadata": {},
     "output_type": "execute_result"
    }
   ],
   "source": [
    "age_stat = hd_train.agg({'age': ['mean', 'median', 'min', 'max']}).round(decimals=1)\n",
    "rbp_stat = hd_train.agg({'resting_blood_pressure': ['mean', 'median', 'min', 'max']}).round(decimals=2)\n",
    "chol_stat = hd_train.agg({'cholesterol': ['mean', 'median', 'min', 'max']}).round(decimals=2)\n",
    "max_hr_stat = hd_train.agg({'max_heart_rate': ['mean', 'median', 'min', 'max']}).round(decimals=2)\n",
    "st_depression_exercise = hd_train.agg({'st_depression_exercise': ['mean', 'median', 'min', 'max']}).round(decimals=2)\n",
    "major_vessels = hd_train.agg({'major_vessels': ['mean', 'median', 'min', 'max']}).round(decimals=2)\n",
    "\n",
    "num_stat = pd.concat([age_stat, rbp_stat, chol_stat, max_hr_stat, st_depression_exercise, major_vessels], axis=1)\n",
    "num_stat.transpose()"
   ]
  },
  {
   "cell_type": "markdown",
   "id": "f5847e1e-6d6e-4d4b-bb48-ab705be174fa",
   "metadata": {},
   "source": [
    "We can see the variation of scales in the above variables, so we will scale these values before using them for our analysis with the K nearest neighbours algorithms."
   ]
  },
  {
   "cell_type": "markdown",
   "id": "07d0084a-ec89-470e-b344-c526358684e0",
   "metadata": {},
   "source": [
    "### Imbarance of valurs in categorical variables"
   ]
  },
  {
   "cell_type": "markdown",
   "id": "a8037393-5c64-4e46-9916-f664a4d7e814",
   "metadata": {},
   "source": [
    "Also, we will show summaries for seven categorical variables in the original data. (We omit `st_slope` because it seems too technical for us.) *We may have to consider the imbalance of the values when we train our models.*"
   ]
  },
  {
   "cell_type": "code",
   "execution_count": 7,
   "id": "703cf8f7-a8ce-45d2-a6d2-ce32d0bd6d58",
   "metadata": {},
   "outputs": [
    {
     "name": "stdout",
     "output_type": "stream",
     "text": [
      "male      201\n",
      "female     96\n",
      "Name: sex, dtype: int64\n",
      "\n",
      "Asymptomatic        142\n",
      "Non-anginal pain     83\n",
      "Atypical angina      49\n",
      "Typical angina       23\n",
      "Name: chest_pain, dtype: int64\n",
      "\n",
      "False    254\n",
      "True      43\n",
      "Name: fasting_blood_sugar, dtype: int64\n",
      "\n",
      "0.0    147\n",
      "2.0    146\n",
      "1.0      4\n",
      "Name: resting_electrocardiographic_results, dtype: int64\n",
      "\n",
      "No     200\n",
      "Yes     97\n",
      "Name: exercise_induced_angina, dtype: int64\n",
      "\n",
      "Normal                164\n",
      "Rreversable defect    115\n",
      "Fixed defect           18\n",
      "Name: thal, dtype: int64\n",
      "\n",
      "undiagnosed    160\n",
      "diagnosed      137\n",
      "Name: heart_disease, dtype: int64\n"
     ]
    }
   ],
   "source": [
    "print(hd_data[\"sex\"].value_counts(), end='\\n\\n')\n",
    "print(hd_data[\"chest_pain\"].value_counts(), end='\\n\\n')\n",
    "print(hd_data[\"fasting_blood_sugar\"].value_counts(), end='\\n\\n')\n",
    "print(hd_data[\"resting_electrocardiographic_results\"].value_counts(), end='\\n\\n')\n",
    "print(hd_data[\"exercise_induced_angina\"].value_counts(), end='\\n\\n')\n",
    "print(hd_data[\"thal\"].value_counts(), end='\\n\\n')\n",
    "print(hd_data[\"heart_disease\"].value_counts())"
   ]
  },
  {
   "cell_type": "markdown",
   "id": "025f64e8-d377-40db-99e0-b62e93d3bf28",
   "metadata": {},
   "source": [
    "### Scaling and Centering\n",
    "\n",
    "We saw the variation of scales in the numeric variables in our data. So, we will scale these values before using them for our analysis with the K nearest neighbours algorithms."
   ]
  },
  {
   "cell_type": "code",
   "execution_count": 8,
   "id": "dffaa79a-5c14-43a9-8aac-4236fbbb273f",
   "metadata": {},
   "outputs": [
    {
     "data": {
      "text/html": [
       "<div>\n",
       "<style scoped>\n",
       "    .dataframe tbody tr th:only-of-type {\n",
       "        vertical-align: middle;\n",
       "    }\n",
       "\n",
       "    .dataframe tbody tr th {\n",
       "        vertical-align: top;\n",
       "    }\n",
       "\n",
       "    .dataframe thead th {\n",
       "        text-align: right;\n",
       "    }\n",
       "</style>\n",
       "<table border=\"1\" class=\"dataframe\">\n",
       "  <thead>\n",
       "    <tr style=\"text-align: right;\">\n",
       "      <th></th>\n",
       "      <th>age</th>\n",
       "      <th>resting_blood_pressure</th>\n",
       "      <th>cholesterol</th>\n",
       "      <th>max_heart_rate</th>\n",
       "      <th>st_depression_exercise</th>\n",
       "      <th>major_vessels</th>\n",
       "      <th>sex</th>\n",
       "      <th>chest_pain</th>\n",
       "      <th>fasting_blood_sugar</th>\n",
       "      <th>resting_electrocardiographic_results</th>\n",
       "      <th>exercise_induced_angina</th>\n",
       "      <th>slope_st</th>\n",
       "      <th>thal</th>\n",
       "      <th>heart_disease</th>\n",
       "    </tr>\n",
       "  </thead>\n",
       "  <tbody>\n",
       "    <tr>\n",
       "      <th>0</th>\n",
       "      <td>0.527019</td>\n",
       "      <td>2.327121</td>\n",
       "      <td>1.572779</td>\n",
       "      <td>-0.432092</td>\n",
       "      <td>2.043423</td>\n",
       "      <td>-0.694919</td>\n",
       "      <td>male</td>\n",
       "      <td>Asymptomatic</td>\n",
       "      <td>False</td>\n",
       "      <td>2.0</td>\n",
       "      <td>Yes</td>\n",
       "      <td>Downsloping</td>\n",
       "      <td>Rreversable defect</td>\n",
       "      <td>diagnosed</td>\n",
       "    </tr>\n",
       "    <tr>\n",
       "      <th>1</th>\n",
       "      <td>0.636774</td>\n",
       "      <td>-0.051428</td>\n",
       "      <td>-0.765065</td>\n",
       "      <td>-0.790352</td>\n",
       "      <td>1.171374</td>\n",
       "      <td>1.493336</td>\n",
       "      <td>male</td>\n",
       "      <td>Asymptomatic</td>\n",
       "      <td>False</td>\n",
       "      <td>2.0</td>\n",
       "      <td>Yes</td>\n",
       "      <td>Flat</td>\n",
       "      <td>Rreversable defect</td>\n",
       "      <td>diagnosed</td>\n",
       "    </tr>\n",
       "    <tr>\n",
       "      <th>2</th>\n",
       "      <td>0.30751</td>\n",
       "      <td>-0.170356</td>\n",
       "      <td>1.124692</td>\n",
       "      <td>0.418778</td>\n",
       "      <td>-0.921544</td>\n",
       "      <td>0.399209</td>\n",
       "      <td>female</td>\n",
       "      <td>Asymptomatic</td>\n",
       "      <td>False</td>\n",
       "      <td>2.0</td>\n",
       "      <td>No</td>\n",
       "      <td>Upsloping</td>\n",
       "      <td>Normal</td>\n",
       "      <td>undiagnosed</td>\n",
       "    </tr>\n",
       "    <tr>\n",
       "      <th>3</th>\n",
       "      <td>0.197756</td>\n",
       "      <td>-0.051428</td>\n",
       "      <td>-0.472834</td>\n",
       "      <td>0.597908</td>\n",
       "      <td>-0.921544</td>\n",
       "      <td>-0.694919</td>\n",
       "      <td>male</td>\n",
       "      <td>Atypical angina</td>\n",
       "      <td>False</td>\n",
       "      <td>2.0</td>\n",
       "      <td>No</td>\n",
       "      <td>Upsloping</td>\n",
       "      <td>Rreversable defect</td>\n",
       "      <td>undiagnosed</td>\n",
       "    </tr>\n",
       "    <tr>\n",
       "      <th>4</th>\n",
       "      <td>-0.68028</td>\n",
       "      <td>-1.240703</td>\n",
       "      <td>-0.316978</td>\n",
       "      <td>0.821821</td>\n",
       "      <td>-0.049495</td>\n",
       "      <td>-0.694919</td>\n",
       "      <td>male</td>\n",
       "      <td>Atypical angina</td>\n",
       "      <td>False</td>\n",
       "      <td>0.0</td>\n",
       "      <td>No</td>\n",
       "      <td>Downsloping</td>\n",
       "      <td>Rreversable defect</td>\n",
       "      <td>diagnosed</td>\n",
       "    </tr>\n",
       "  </tbody>\n",
       "</table>\n",
       "</div>"
      ],
      "text/plain": [
       "        age resting_blood_pressure cholesterol max_heart_rate  \\\n",
       "0  0.527019               2.327121    1.572779      -0.432092   \n",
       "1  0.636774              -0.051428   -0.765065      -0.790352   \n",
       "2   0.30751              -0.170356    1.124692       0.418778   \n",
       "3  0.197756              -0.051428   -0.472834       0.597908   \n",
       "4  -0.68028              -1.240703   -0.316978       0.821821   \n",
       "\n",
       "  st_depression_exercise major_vessels     sex       chest_pain  \\\n",
       "0               2.043423     -0.694919    male     Asymptomatic   \n",
       "1               1.171374      1.493336    male     Asymptomatic   \n",
       "2              -0.921544      0.399209  female     Asymptomatic   \n",
       "3              -0.921544     -0.694919    male  Atypical angina   \n",
       "4              -0.049495     -0.694919    male  Atypical angina   \n",
       "\n",
       "  fasting_blood_sugar resting_electrocardiographic_results  \\\n",
       "0               False                                  2.0   \n",
       "1               False                                  2.0   \n",
       "2               False                                  2.0   \n",
       "3               False                                  2.0   \n",
       "4               False                                  0.0   \n",
       "\n",
       "  exercise_induced_angina     slope_st                thal heart_disease  \n",
       "0                     Yes  Downsloping  Rreversable defect     diagnosed  \n",
       "1                     Yes         Flat  Rreversable defect     diagnosed  \n",
       "2                      No    Upsloping              Normal   undiagnosed  \n",
       "3                      No    Upsloping  Rreversable defect   undiagnosed  \n",
       "4                      No  Downsloping  Rreversable defect     diagnosed  "
      ]
     },
     "execution_count": 8,
     "metadata": {},
     "output_type": "execute_result"
    }
   ],
   "source": [
    "hd_preprocessor = make_column_transformer(\n",
    "    (StandardScaler(), [\n",
    "        \"age\",\n",
    "        \"resting_blood_pressure\",\n",
    "        \"cholesterol\",\n",
    "        \"max_heart_rate\",\n",
    "        \"st_depression_exercise\",\n",
    "        \"major_vessels\"\n",
    "    ]),\n",
    "    remainder=\"passthrough\"\n",
    ")\n",
    "\n",
    "scaled_columns=[\n",
    "    \"age\",\n",
    "    \"resting_blood_pressure\",\n",
    "    \"cholesterol\",\n",
    "    \"max_heart_rate\",\n",
    "    \"st_depression_exercise\",\n",
    "    \"major_vessels\",\n",
    "    \"sex\",\n",
    "    \"chest_pain\",\n",
    "    \"fasting_blood_sugar\",\n",
    "    \"resting_electrocardiographic_results\",\n",
    "    \"exercise_induced_angina\",\n",
    "    \"slope_st\", \n",
    "    \"thal\",\n",
    "    \"heart_disease\"\n",
    "]\n",
    "\n",
    "hd_scaled_train = pd.DataFrame(hd_preprocessor.fit_transform(hd_train), columns=scaled_columns)\n",
    "hd_scaled_test = pd.DataFrame(hd_preprocessor.fit_transform(hd_test), columns=scaled_columns)\n",
    "\n",
    "hd_scaled_train.head()"
   ]
  },
  {
   "cell_type": "markdown",
   "id": "1941479d-ff18-484c-b1ef-0a5dda040c56",
   "metadata": {},
   "source": [
    "### Classification\n",
    "\n",
    "#### Relationship between Resting Blood Pressure and Cholesterol\n",
    "\n",
    "We will show a pattern in the two varibles, `resting_blood_pressure` and `cholesterol`, by using the K nearest neighbors classification."
   ]
  },
  {
   "cell_type": "code",
   "execution_count": 9,
   "id": "747ea1b7-9cd9-4feb-b067-09e3e3b3a444",
   "metadata": {},
   "outputs": [],
   "source": [
    "from sklearn import set_config\n",
    "set_config(transform_output=\"pandas\")\n",
    "from sklearn.neighbors import KNeighborsClassifier"
   ]
  },
  {
   "cell_type": "code",
   "execution_count": 10,
   "id": "5539aa78-d46f-446e-bbd6-51c52d561bfc",
   "metadata": {},
   "outputs": [],
   "source": [
    "# # try to see the result with n=5\n",
    "# knn_5 = KNeighborsClassifier(n_neighbors=5)\n",
    "\n",
    "# X = hd_train.loc[:, [\"resting_blood_pressure\", \"cholesterol\"]]\n",
    "# y = hd_train[\"heart_disease\"]\n",
    "\n",
    "# hd_preprocessor_restbp_chol = make_column_transformer(\n",
    "#     (StandardScaler(), [\"resting_blood_pressure\", \"cholesterol\"]),\n",
    "# )\n",
    "# knn_fit_restbp_chol = make_pipeline(hd_preprocessor_restbp_chol, knn_5).fit(X, y)\n",
    "\n",
    "# pred_restbp_chol = hd_test.assign(\n",
    "#     predicted = knn_fit_restbp_chol.predict(hd_test.loc[:, [\"resting_blood_pressure\", \"cholesterol\"]])\n",
    "# )\n",
    "\n",
    "# # check the accuracy of the prediction\n",
    "# correct_preds_restbp_chol = pred_restbp_chol[\n",
    "#     pred_restbp_chol[\"heart_disease\"] == pred_restbp_chol[\"predicted\"]\n",
    "# ]\n",
    "# print(correct_preds_restbp_chol.shape[0] / pred_restbp_chol.shape[0])"
   ]
  },
  {
   "cell_type": "code",
   "execution_count": 11,
   "id": "1614efcc-49dd-48ae-acc2-007463b6ffda",
   "metadata": {},
   "outputs": [
    {
     "name": "stdout",
     "output_type": "stream",
     "text": [
      "Mean test score (5-fold cross-validation):  0.5005050505050506\n",
      "Mean test score (10-fold cross-validation):  0.5001976284584979\n"
     ]
    }
   ],
   "source": [
    "# try to see the result with n=5\n",
    "knn_5 = KNeighborsClassifier(n_neighbors=5)\n",
    "X_train_restbp_chol = hd_train.loc[:, [\"resting_blood_pressure\", \"cholesterol\"]]\n",
    "y = hd_train[\"heart_disease\"]\n",
    "\n",
    "hd_preprocessor_restbp_chol = make_column_transformer(\n",
    "    (StandardScaler(), [\"resting_blood_pressure\", \"cholesterol\"]),\n",
    ")\n",
    "pipe_restbp_chol_k5 = make_pipeline(hd_preprocessor_restbp_chol, knn_5)\n",
    "knn_fit_restbp_chol = pipe_restbp_chol_k5.fit(X_train_restbp_chol, y)\n",
    "\n",
    "cv_5_df_1 = pd.DataFrame(\n",
    "    cross_validate(estimator = pipe_restbp_chol_k5, cv=5, X=X_train_restbp_chol, y=y, return_train_score=True)\n",
    ")\n",
    "print(\"Mean test score (5-fold cross-validation): \", cv_5_df_1[\"test_score\"].mean())\n",
    "\n",
    "cv_10_df_1 = pd.DataFrame(\n",
    "    cross_validate(estimator = pipe_restbp_chol_k5, cv=10, X=X_train_restbp_chol, y=y, return_train_score=True)\n",
    ")\n",
    "print(\"Mean test score (10-fold cross-validation): \", cv_10_df_1[\"test_score\"].mean())"
   ]
  },
  {
   "cell_type": "markdown",
   "id": "15f35d79-ace4-4799-b087-357e22e0e7df",
   "metadata": {},
   "source": [
    "So, the test score with K=5 is around 50% . Now we will look for the best K to improve our prediction by using Grid Search"
   ]
  },
  {
   "cell_type": "code",
   "execution_count": 12,
   "id": "33379b1d-e548-4ac6-83c1-c08b190aa9f7",
   "metadata": {},
   "outputs": [
    {
     "data": {
      "text/html": [
       "<style>#sk-container-id-1 {color: black;background-color: white;}#sk-container-id-1 pre{padding: 0;}#sk-container-id-1 div.sk-toggleable {background-color: white;}#sk-container-id-1 label.sk-toggleable__label {cursor: pointer;display: block;width: 100%;margin-bottom: 0;padding: 0.3em;box-sizing: border-box;text-align: center;}#sk-container-id-1 label.sk-toggleable__label-arrow:before {content: \"▸\";float: left;margin-right: 0.25em;color: #696969;}#sk-container-id-1 label.sk-toggleable__label-arrow:hover:before {color: black;}#sk-container-id-1 div.sk-estimator:hover label.sk-toggleable__label-arrow:before {color: black;}#sk-container-id-1 div.sk-toggleable__content {max-height: 0;max-width: 0;overflow: hidden;text-align: left;background-color: #f0f8ff;}#sk-container-id-1 div.sk-toggleable__content pre {margin: 0.2em;color: black;border-radius: 0.25em;background-color: #f0f8ff;}#sk-container-id-1 input.sk-toggleable__control:checked~div.sk-toggleable__content {max-height: 200px;max-width: 100%;overflow: auto;}#sk-container-id-1 input.sk-toggleable__control:checked~label.sk-toggleable__label-arrow:before {content: \"▾\";}#sk-container-id-1 div.sk-estimator input.sk-toggleable__control:checked~label.sk-toggleable__label {background-color: #d4ebff;}#sk-container-id-1 div.sk-label input.sk-toggleable__control:checked~label.sk-toggleable__label {background-color: #d4ebff;}#sk-container-id-1 input.sk-hidden--visually {border: 0;clip: rect(1px 1px 1px 1px);clip: rect(1px, 1px, 1px, 1px);height: 1px;margin: -1px;overflow: hidden;padding: 0;position: absolute;width: 1px;}#sk-container-id-1 div.sk-estimator {font-family: monospace;background-color: #f0f8ff;border: 1px dotted black;border-radius: 0.25em;box-sizing: border-box;margin-bottom: 0.5em;}#sk-container-id-1 div.sk-estimator:hover {background-color: #d4ebff;}#sk-container-id-1 div.sk-parallel-item::after {content: \"\";width: 100%;border-bottom: 1px solid gray;flex-grow: 1;}#sk-container-id-1 div.sk-label:hover label.sk-toggleable__label {background-color: #d4ebff;}#sk-container-id-1 div.sk-serial::before {content: \"\";position: absolute;border-left: 1px solid gray;box-sizing: border-box;top: 0;bottom: 0;left: 50%;z-index: 0;}#sk-container-id-1 div.sk-serial {display: flex;flex-direction: column;align-items: center;background-color: white;padding-right: 0.2em;padding-left: 0.2em;position: relative;}#sk-container-id-1 div.sk-item {position: relative;z-index: 1;}#sk-container-id-1 div.sk-parallel {display: flex;align-items: stretch;justify-content: center;background-color: white;position: relative;}#sk-container-id-1 div.sk-item::before, #sk-container-id-1 div.sk-parallel-item::before {content: \"\";position: absolute;border-left: 1px solid gray;box-sizing: border-box;top: 0;bottom: 0;left: 50%;z-index: -1;}#sk-container-id-1 div.sk-parallel-item {display: flex;flex-direction: column;z-index: 1;position: relative;background-color: white;}#sk-container-id-1 div.sk-parallel-item:first-child::after {align-self: flex-end;width: 50%;}#sk-container-id-1 div.sk-parallel-item:last-child::after {align-self: flex-start;width: 50%;}#sk-container-id-1 div.sk-parallel-item:only-child::after {width: 0;}#sk-container-id-1 div.sk-dashed-wrapped {border: 1px dashed gray;margin: 0 0.4em 0.5em 0.4em;box-sizing: border-box;padding-bottom: 0.4em;background-color: white;}#sk-container-id-1 div.sk-label label {font-family: monospace;font-weight: bold;display: inline-block;line-height: 1.2em;}#sk-container-id-1 div.sk-label-container {text-align: center;}#sk-container-id-1 div.sk-container {/* jupyter's `normalize.less` sets `[hidden] { display: none; }` but bootstrap.min.css set `[hidden] { display: none !important; }` so we also need the `!important` here to be able to override the default hidden behavior on the sphinx rendered scikit-learn.org. See: https://github.com/scikit-learn/scikit-learn/issues/21755 */display: inline-block !important;position: relative;}#sk-container-id-1 div.sk-text-repr-fallback {display: none;}</style><div id=\"sk-container-id-1\" class=\"sk-top-container\"><div class=\"sk-text-repr-fallback\"><pre>GridSearchCV(cv=5,\n",
       "             estimator=Pipeline(steps=[(&#x27;columntransformer&#x27;,\n",
       "                                        ColumnTransformer(transformers=[(&#x27;standardscaler&#x27;,\n",
       "                                                                         StandardScaler(),\n",
       "                                                                         [&#x27;resting_blood_pressure&#x27;,\n",
       "                                                                          &#x27;cholesterol&#x27;])])),\n",
       "                                       (&#x27;kneighborsclassifier&#x27;,\n",
       "                                        KNeighborsClassifier())]),\n",
       "             param_grid={&#x27;kneighborsclassifier__n_neighbors&#x27;: range(1, 30)})</pre><b>In a Jupyter environment, please rerun this cell to show the HTML representation or trust the notebook. <br />On GitHub, the HTML representation is unable to render, please try loading this page with nbviewer.org.</b></div><div class=\"sk-container\" hidden><div class=\"sk-item sk-dashed-wrapped\"><div class=\"sk-label-container\"><div class=\"sk-label sk-toggleable\"><input class=\"sk-toggleable__control sk-hidden--visually\" id=\"sk-estimator-id-1\" type=\"checkbox\" ><label for=\"sk-estimator-id-1\" class=\"sk-toggleable__label sk-toggleable__label-arrow\">GridSearchCV</label><div class=\"sk-toggleable__content\"><pre>GridSearchCV(cv=5,\n",
       "             estimator=Pipeline(steps=[(&#x27;columntransformer&#x27;,\n",
       "                                        ColumnTransformer(transformers=[(&#x27;standardscaler&#x27;,\n",
       "                                                                         StandardScaler(),\n",
       "                                                                         [&#x27;resting_blood_pressure&#x27;,\n",
       "                                                                          &#x27;cholesterol&#x27;])])),\n",
       "                                       (&#x27;kneighborsclassifier&#x27;,\n",
       "                                        KNeighborsClassifier())]),\n",
       "             param_grid={&#x27;kneighborsclassifier__n_neighbors&#x27;: range(1, 30)})</pre></div></div></div><div class=\"sk-parallel\"><div class=\"sk-parallel-item\"><div class=\"sk-item\"><div class=\"sk-label-container\"><div class=\"sk-label sk-toggleable\"><input class=\"sk-toggleable__control sk-hidden--visually\" id=\"sk-estimator-id-2\" type=\"checkbox\" ><label for=\"sk-estimator-id-2\" class=\"sk-toggleable__label sk-toggleable__label-arrow\">estimator: Pipeline</label><div class=\"sk-toggleable__content\"><pre>Pipeline(steps=[(&#x27;columntransformer&#x27;,\n",
       "                 ColumnTransformer(transformers=[(&#x27;standardscaler&#x27;,\n",
       "                                                  StandardScaler(),\n",
       "                                                  [&#x27;resting_blood_pressure&#x27;,\n",
       "                                                   &#x27;cholesterol&#x27;])])),\n",
       "                (&#x27;kneighborsclassifier&#x27;, KNeighborsClassifier())])</pre></div></div></div><div class=\"sk-serial\"><div class=\"sk-item\"><div class=\"sk-serial\"><div class=\"sk-item sk-dashed-wrapped\"><div class=\"sk-label-container\"><div class=\"sk-label sk-toggleable\"><input class=\"sk-toggleable__control sk-hidden--visually\" id=\"sk-estimator-id-3\" type=\"checkbox\" ><label for=\"sk-estimator-id-3\" class=\"sk-toggleable__label sk-toggleable__label-arrow\">columntransformer: ColumnTransformer</label><div class=\"sk-toggleable__content\"><pre>ColumnTransformer(transformers=[(&#x27;standardscaler&#x27;, StandardScaler(),\n",
       "                                 [&#x27;resting_blood_pressure&#x27;, &#x27;cholesterol&#x27;])])</pre></div></div></div><div class=\"sk-parallel\"><div class=\"sk-parallel-item\"><div class=\"sk-item\"><div class=\"sk-label-container\"><div class=\"sk-label sk-toggleable\"><input class=\"sk-toggleable__control sk-hidden--visually\" id=\"sk-estimator-id-4\" type=\"checkbox\" ><label for=\"sk-estimator-id-4\" class=\"sk-toggleable__label sk-toggleable__label-arrow\">standardscaler</label><div class=\"sk-toggleable__content\"><pre>[&#x27;resting_blood_pressure&#x27;, &#x27;cholesterol&#x27;]</pre></div></div></div><div class=\"sk-serial\"><div class=\"sk-item\"><div class=\"sk-estimator sk-toggleable\"><input class=\"sk-toggleable__control sk-hidden--visually\" id=\"sk-estimator-id-5\" type=\"checkbox\" ><label for=\"sk-estimator-id-5\" class=\"sk-toggleable__label sk-toggleable__label-arrow\">StandardScaler</label><div class=\"sk-toggleable__content\"><pre>StandardScaler()</pre></div></div></div></div></div></div></div></div><div class=\"sk-item\"><div class=\"sk-estimator sk-toggleable\"><input class=\"sk-toggleable__control sk-hidden--visually\" id=\"sk-estimator-id-6\" type=\"checkbox\" ><label for=\"sk-estimator-id-6\" class=\"sk-toggleable__label sk-toggleable__label-arrow\">KNeighborsClassifier</label><div class=\"sk-toggleable__content\"><pre>KNeighborsClassifier()</pre></div></div></div></div></div></div></div></div></div></div></div></div>"
      ],
      "text/plain": [
       "GridSearchCV(cv=5,\n",
       "             estimator=Pipeline(steps=[('columntransformer',\n",
       "                                        ColumnTransformer(transformers=[('standardscaler',\n",
       "                                                                         StandardScaler(),\n",
       "                                                                         ['resting_blood_pressure',\n",
       "                                                                          'cholesterol'])])),\n",
       "                                       ('kneighborsclassifier',\n",
       "                                        KNeighborsClassifier())]),\n",
       "             param_grid={'kneighborsclassifier__n_neighbors': range(1, 30)})"
      ]
     },
     "execution_count": 12,
     "metadata": {},
     "output_type": "execute_result"
    }
   ],
   "source": [
    "knn = KNeighborsClassifier()\n",
    "tune_pipe_restbp_chol = make_pipeline(hd_preprocessor_restbp_chol, knn)\n",
    "param_grid = {\"kneighborsclassifier__n_neighbors\": range(1, 30)}\n",
    "\n",
    "tune_grid_restbp_chol = GridSearchCV(\n",
    "    estimator=tune_pipe_restbp_chol,\n",
    "    param_grid=param_grid,\n",
    "    cv=5\n",
    ")\n",
    "tune_grid_restbp_chol"
   ]
  },
  {
   "cell_type": "markdown",
   "id": "acae834d-50d8-49ff-b87b-267cdc9973ef",
   "metadata": {},
   "source": [
    "We will check the cross-validation accuracy estimate and the standard error for the K values from 1 to 29."
   ]
  },
  {
   "cell_type": "code",
   "execution_count": 13,
   "id": "7282b3cc-42c4-45c2-8ac3-b0a7b216b59c",
   "metadata": {},
   "outputs": [
    {
     "name": "stderr",
     "output_type": "stream",
     "text": [
      "/opt/conda/lib/python3.10/site-packages/altair/utils/core.py:317: FutureWarning: iteritems is deprecated and will be removed in a future version. Use .items instead.\n",
      "  for col_name, dtype in df.dtypes.iteritems():\n"
     ]
    },
    {
     "data": {
      "text/html": [
       "\n",
       "<div id=\"altair-viz-c3edfc6685604c9d8172d2fbd11e8845\"></div>\n",
       "<script type=\"text/javascript\">\n",
       "  var VEGA_DEBUG = (typeof VEGA_DEBUG == \"undefined\") ? {} : VEGA_DEBUG;\n",
       "  (function(spec, embedOpt){\n",
       "    let outputDiv = document.currentScript.previousElementSibling;\n",
       "    if (outputDiv.id !== \"altair-viz-c3edfc6685604c9d8172d2fbd11e8845\") {\n",
       "      outputDiv = document.getElementById(\"altair-viz-c3edfc6685604c9d8172d2fbd11e8845\");\n",
       "    }\n",
       "    const paths = {\n",
       "      \"vega\": \"https://cdn.jsdelivr.net/npm//vega@5?noext\",\n",
       "      \"vega-lib\": \"https://cdn.jsdelivr.net/npm//vega-lib?noext\",\n",
       "      \"vega-lite\": \"https://cdn.jsdelivr.net/npm//vega-lite@4.17.0?noext\",\n",
       "      \"vega-embed\": \"https://cdn.jsdelivr.net/npm//vega-embed@6?noext\",\n",
       "    };\n",
       "\n",
       "    function maybeLoadScript(lib, version) {\n",
       "      var key = `${lib.replace(\"-\", \"\")}_version`;\n",
       "      return (VEGA_DEBUG[key] == version) ?\n",
       "        Promise.resolve(paths[lib]) :\n",
       "        new Promise(function(resolve, reject) {\n",
       "          var s = document.createElement('script');\n",
       "          document.getElementsByTagName(\"head\")[0].appendChild(s);\n",
       "          s.async = true;\n",
       "          s.onload = () => {\n",
       "            VEGA_DEBUG[key] = version;\n",
       "            return resolve(paths[lib]);\n",
       "          };\n",
       "          s.onerror = () => reject(`Error loading script: ${paths[lib]}`);\n",
       "          s.src = paths[lib];\n",
       "        });\n",
       "    }\n",
       "\n",
       "    function showError(err) {\n",
       "      outputDiv.innerHTML = `<div class=\"error\" style=\"color:red;\">${err}</div>`;\n",
       "      throw err;\n",
       "    }\n",
       "\n",
       "    function displayChart(vegaEmbed) {\n",
       "      vegaEmbed(outputDiv, spec, embedOpt)\n",
       "        .catch(err => showError(`Javascript Error: ${err.message}<br>This usually means there's a typo in your chart specification. See the javascript console for the full traceback.`));\n",
       "    }\n",
       "\n",
       "    if(typeof define === \"function\" && define.amd) {\n",
       "      requirejs.config({paths});\n",
       "      require([\"vega-embed\"], displayChart, err => showError(`Error loading script: ${err.message}`));\n",
       "    } else {\n",
       "      maybeLoadScript(\"vega\", \"5\")\n",
       "        .then(() => maybeLoadScript(\"vega-lite\", \"4.17.0\"))\n",
       "        .then(() => maybeLoadScript(\"vega-embed\", \"6\"))\n",
       "        .catch(showError)\n",
       "        .then(() => displayChart(vegaEmbed));\n",
       "    }\n",
       "  })({\"config\": {\"view\": {\"continuousWidth\": 400, \"continuousHeight\": 300}}, \"repeat\": {\"column\": [\"n_neighbors\"], \"row\": [\"mean_test_score\", \"sem_test_score\"]}, \"spec\": {\"data\": {\"name\": \"data-aca9189b0a691fac4f067b3bd449a261\"}, \"mark\": {\"type\": \"line\", \"point\": true}, \"encoding\": {\"x\": {\"field\": {\"repeat\": \"column\"}, \"type\": \"quantitative\"}, \"y\": {\"field\": {\"repeat\": \"row\"}, \"scale\": {\"zero\": false}, \"type\": \"quantitative\"}}, \"height\": 300, \"width\": 300}, \"$schema\": \"https://vega.github.io/schema/vega-lite/v4.17.0.json\", \"datasets\": {\"data-aca9189b0a691fac4f067b3bd449a261\": [{\"n_neighbors\": 1, \"mean_test_score\": 0.5049494949494949, \"sem_test_score\": 0.018383394378032575}, {\"n_neighbors\": 2, \"mean_test_score\": 0.5135353535353534, \"sem_test_score\": 0.019095825351701005}, {\"n_neighbors\": 3, \"mean_test_score\": 0.48252525252525247, \"sem_test_score\": 0.020101923739451705}, {\"n_neighbors\": 4, \"mean_test_score\": 0.44171717171717173, \"sem_test_score\": 0.014610055756611779}, {\"n_neighbors\": 5, \"mean_test_score\": 0.5005050505050506, \"sem_test_score\": 0.016025627369257917}, {\"n_neighbors\": 6, \"mean_test_score\": 0.473030303030303, \"sem_test_score\": 0.006566122749572447}, {\"n_neighbors\": 7, \"mean_test_score\": 0.4641414141414142, \"sem_test_score\": 0.015217365321427452}, {\"n_neighbors\": 8, \"mean_test_score\": 0.48202020202020196, \"sem_test_score\": 0.007372076746727257}, {\"n_neighbors\": 9, \"mean_test_score\": 0.5813131313131313, \"sem_test_score\": 0.009614548714578414}, {\"n_neighbors\": 10, \"mean_test_score\": 0.541010101010101, \"sem_test_score\": 0.015781967653302836}, {\"n_neighbors\": 11, \"mean_test_score\": 0.5453535353535354, \"sem_test_score\": 0.013437532848411482}, {\"n_neighbors\": 12, \"mean_test_score\": 0.5139393939393939, \"sem_test_score\": 0.02327107001675079}, {\"n_neighbors\": 13, \"mean_test_score\": 0.5133333333333334, \"sem_test_score\": 0.01880459775276248}, {\"n_neighbors\": 14, \"mean_test_score\": 0.508888888888889, \"sem_test_score\": 0.01802474237315503}, {\"n_neighbors\": 15, \"mean_test_score\": 0.5676767676767677, \"sem_test_score\": 0.021370500604624018}, {\"n_neighbors\": 16, \"mean_test_score\": 0.5497979797979798, \"sem_test_score\": 0.018522234093122474}, {\"n_neighbors\": 17, \"mean_test_score\": 0.5632323232323232, \"sem_test_score\": 0.016777227412691817}, {\"n_neighbors\": 18, \"mean_test_score\": 0.5271717171717172, \"sem_test_score\": 0.01759849916150454}, {\"n_neighbors\": 19, \"mean_test_score\": 0.527070707070707, \"sem_test_score\": 0.00979985403296611}, {\"n_neighbors\": 20, \"mean_test_score\": 0.5272727272727272, \"sem_test_score\": 0.020606060606060603}, {\"n_neighbors\": 21, \"mean_test_score\": 0.5586868686868687, \"sem_test_score\": 0.019619219768067325}, {\"n_neighbors\": 22, \"mean_test_score\": 0.5407070707070708, \"sem_test_score\": 0.01612641368200123}, {\"n_neighbors\": 23, \"mean_test_score\": 0.5586868686868687, \"sem_test_score\": 0.01429726528797815}, {\"n_neighbors\": 24, \"mean_test_score\": 0.545050505050505, \"sem_test_score\": 0.01980091711873431}, {\"n_neighbors\": 25, \"mean_test_score\": 0.5632323232323232, \"sem_test_score\": 0.012550235755093115}, {\"n_neighbors\": 26, \"mean_test_score\": 0.5362626262626262, \"sem_test_score\": 0.014640681547241512}, {\"n_neighbors\": 27, \"mean_test_score\": 0.5544444444444444, \"sem_test_score\": 0.017833189584309465}, {\"n_neighbors\": 28, \"mean_test_score\": 0.5680808080808081, \"sem_test_score\": 0.027559731903070567}, {\"n_neighbors\": 29, \"mean_test_score\": 0.5498989898989899, \"sem_test_score\": 0.01771436117900982}]}}, {\"mode\": \"vega-lite\"});\n",
       "</script>"
      ],
      "text/plain": [
       "alt.RepeatChart(...)"
      ]
     },
     "execution_count": 13,
     "metadata": {},
     "output_type": "execute_result"
    }
   ],
   "source": [
    "accuracies_grid_restbp_chol = pd.DataFrame(\n",
    "    tune_grid_restbp_chol.fit(X_train_restbp_chol, y).cv_results_\n",
    ")\n",
    "\n",
    "accuracies_restbp_chol = accuracies_grid_restbp_chol[[\"param_kneighborsclassifier__n_neighbors\", \"mean_test_score\", \"std_test_score\"]\n",
    "              ].assign(\n",
    "                  sem_test_score = accuracies_grid_restbp_chol[\"std_test_score\"] / 10**(1/2)\n",
    "              ).rename(\n",
    "                  columns = {\"param_kneighborsclassifier__n_neighbors\" : \"n_neighbors\"}\n",
    "              ).drop(\n",
    "                  columns = [\"std_test_score\"]\n",
    "              )\n",
    "\n",
    "accuracy_k_grid_restbp_chol = (\n",
    "    alt.Chart(accuracies_restbp_chol)\n",
    "    .mark_line(point=True)\n",
    "    .encode(\n",
    "      alt.X(alt.repeat(\"column\"), type='quantitative'),\n",
    "      alt.Y(alt.repeat(\"row\"), type='quantitative', scale=alt.Scale(zero=False)),\n",
    "    )\n",
    "    .properties(width=300, height=300)\n",
    "    .repeat(\n",
    "      row=['mean_test_score', 'sem_test_score'],\n",
    "      column=['n_neighbors']\n",
    "    )\n",
    ")\n",
    "accuracy_k_grid_restbp_chol"
   ]
  },
  {
   "cell_type": "markdown",
   "id": "ff49e355-cc36-4522-b089-03c8859686f8",
   "metadata": {},
   "source": [
    "We can see K=9 shows the highest test scores with pretty low values of the standard error. So, we will pick up K=9 to build our model."
   ]
  },
  {
   "cell_type": "code",
   "execution_count": 14,
   "id": "5260751c-d0f1-4baf-843d-cd326309c7ba",
   "metadata": {},
   "outputs": [
    {
     "name": "stdout",
     "output_type": "stream",
     "text": [
      "Ratio of correct prediction:  0.6126126126126126\n",
      "Accuracy:  0.6126126126126126\n"
     ]
    }
   ],
   "source": [
    "# try to see the result with n=9\n",
    "knn_9 = KNeighborsClassifier(n_neighbors=9)\n",
    "knn_fit_restbp_chol_9 = make_pipeline(hd_preprocessor_restbp_chol, knn_9).fit(X_train_restbp_chol, y)\n",
    "\n",
    "pred_restbp_chol_9 = hd_train.assign(\n",
    "    predicted = knn_fit_restbp_chol_9.predict(hd_train.loc[:, [\"resting_blood_pressure\", \"cholesterol\"]])\n",
    ")\n",
    "\n",
    "# check the accuracy of the prediction by the ratio\n",
    "correct_preds_restbp_chol_9 = pred_restbp_chol_9[\n",
    "    pred_restbp_chol_9[\"heart_disease\"] == pred_restbp_chol_9[\"predicted\"]\n",
    "]\n",
    "print(\"Ratio of correct prediction: \", correct_preds_restbp_chol_9.shape[0] / pred_restbp_chol_9.shape[0])\n",
    "\n",
    "# check the score of accuracy\n",
    "pred_accuracy_restbp_chol_9 = knn_fit_restbp_chol_9.score(\n",
    "    X = X_train_restbp_chol,\n",
    "    y = y\n",
    ")\n",
    "print(\"Accuracy: \", pred_accuracy_restbp_chol_9)"
   ]
  },
  {
   "cell_type": "code",
   "execution_count": 15,
   "id": "4accba1d-48af-4f09-a240-4a997f0fa135",
   "metadata": {},
   "outputs": [
    {
     "data": {
      "text/plain": [
       "<sklearn.metrics._plot.confusion_matrix.ConfusionMatrixDisplay at 0x7f867e5e4310>"
      ]
     },
     "execution_count": 15,
     "metadata": {},
     "output_type": "execute_result"
    },
    {
     "data": {
      "image/png": "[encoded data removed]",
      "text/plain": [
       "<Figure size 640x480 with 2 Axes>"
      ]
     },
     "metadata": {},
     "output_type": "display_data"
    }
   ],
   "source": [
    "restbp_chol_9_mat = confusion_matrix(\n",
    "    pred_restbp_chol_9[\"heart_disease\"],  # true labels\n",
    "    pred_restbp_chol_9[\"predicted\"],  # predicted labels\n",
    "    labels=knn_fit_restbp_chol_9.classes_, # specify the label for each class\n",
    ")\n",
    "disp_restbp_chol_9 = ConfusionMatrixDisplay(\n",
    "    confusion_matrix=restbp_chol_9_mat, display_labels=knn_fit_restbp_chol_9.classes_\n",
    ")\n",
    "disp_restbp_chol_9.plot()"
   ]
  },
  {
   "cell_type": "markdown",
   "id": "870ea223-cdec-4aae-9e58-b502b30c27b2",
   "metadata": {},
   "source": [
    "#### Relationship between Resting Blood Pressure and Max Heart Rate\n",
    "\n",
    "We will show a pattern in the two varibles, `resting_blood_pressure` and `max_heart_rate`, by using the K nearest neighbors classification."
   ]
  },
  {
   "cell_type": "code",
   "execution_count": 16,
   "id": "cc55aa6c-e05d-4662-8407-945eb1113ebe",
   "metadata": {},
   "outputs": [
    {
     "name": "stdout",
     "output_type": "stream",
     "text": [
      "Mean test score (5-fold cross-validation):  0.6128282828282828\n",
      "Mean test score (10-fold cross-validation):  0.6219367588932806\n"
     ]
    }
   ],
   "source": [
    "# try to see the result with n=5\n",
    "X_train_restbp_maxhr = hd_train.loc[:, [\"resting_blood_pressure\", \"max_heart_rate\"]]\n",
    "y = hd_train[\"heart_disease\"]\n",
    "\n",
    "hd_preprocessor_restbp_maxhr = make_column_transformer(\n",
    "    (StandardScaler(), [\"resting_blood_pressure\", \"max_heart_rate\"]),\n",
    ")\n",
    "pipe_restbp_maxhr_k5 = make_pipeline(hd_preprocessor_restbp_maxhr, knn_5)\n",
    "knn_fit_restbp_maxhr = pipe_restbp_maxhr_k5.fit(X_train_restbp_maxhr, y)\n",
    "\n",
    "cv_5_df_2 = pd.DataFrame(\n",
    "    cross_validate(estimator = pipe_restbp_maxhr_k5, cv=5, X=X_train_restbp_maxhr, y=y, return_train_score=True)\n",
    ")\n",
    "print(\"Mean test score (5-fold cross-validation): \", cv_5_df_2[\"test_score\"].mean())\n",
    "\n",
    "cv_10_df_2 = pd.DataFrame(\n",
    "    cross_validate(estimator = pipe_restbp_maxhr_k5, cv=10, X=X_train_restbp_maxhr, y=y, return_train_score=True)\n",
    ")\n",
    "print(\"Mean test score (10-fold cross-validation): \", cv_10_df_2[\"test_score\"].mean())"
   ]
  },
  {
   "cell_type": "markdown",
   "id": "b5d47989-644f-41a9-aebd-85112c4c5ce6",
   "metadata": {},
   "source": [
    "So, the test score with K=5 may be around 62%. Now we will look for the best K to improve our prediction by using Grid Search"
   ]
  },
  {
   "cell_type": "code",
   "execution_count": 17,
   "id": "4796f848-9de9-4138-9b25-dc2947dcdca8",
   "metadata": {},
   "outputs": [
    {
     "data": {
      "text/html": [
       "<style>#sk-container-id-2 {color: black;background-color: white;}#sk-container-id-2 pre{padding: 0;}#sk-container-id-2 div.sk-toggleable {background-color: white;}#sk-container-id-2 label.sk-toggleable__label {cursor: pointer;display: block;width: 100%;margin-bottom: 0;padding: 0.3em;box-sizing: border-box;text-align: center;}#sk-container-id-2 label.sk-toggleable__label-arrow:before {content: \"▸\";float: left;margin-right: 0.25em;color: #696969;}#sk-container-id-2 label.sk-toggleable__label-arrow:hover:before {color: black;}#sk-container-id-2 div.sk-estimator:hover label.sk-toggleable__label-arrow:before {color: black;}#sk-container-id-2 div.sk-toggleable__content {max-height: 0;max-width: 0;overflow: hidden;text-align: left;background-color: #f0f8ff;}#sk-container-id-2 div.sk-toggleable__content pre {margin: 0.2em;color: black;border-radius: 0.25em;background-color: #f0f8ff;}#sk-container-id-2 input.sk-toggleable__control:checked~div.sk-toggleable__content {max-height: 200px;max-width: 100%;overflow: auto;}#sk-container-id-2 input.sk-toggleable__control:checked~label.sk-toggleable__label-arrow:before {content: \"▾\";}#sk-container-id-2 div.sk-estimator input.sk-toggleable__control:checked~label.sk-toggleable__label {background-color: #d4ebff;}#sk-container-id-2 div.sk-label input.sk-toggleable__control:checked~label.sk-toggleable__label {background-color: #d4ebff;}#sk-container-id-2 input.sk-hidden--visually {border: 0;clip: rect(1px 1px 1px 1px);clip: rect(1px, 1px, 1px, 1px);height: 1px;margin: -1px;overflow: hidden;padding: 0;position: absolute;width: 1px;}#sk-container-id-2 div.sk-estimator {font-family: monospace;background-color: #f0f8ff;border: 1px dotted black;border-radius: 0.25em;box-sizing: border-box;margin-bottom: 0.5em;}#sk-container-id-2 div.sk-estimator:hover {background-color: #d4ebff;}#sk-container-id-2 div.sk-parallel-item::after {content: \"\";width: 100%;border-bottom: 1px solid gray;flex-grow: 1;}#sk-container-id-2 div.sk-label:hover label.sk-toggleable__label {background-color: #d4ebff;}#sk-container-id-2 div.sk-serial::before {content: \"\";position: absolute;border-left: 1px solid gray;box-sizing: border-box;top: 0;bottom: 0;left: 50%;z-index: 0;}#sk-container-id-2 div.sk-serial {display: flex;flex-direction: column;align-items: center;background-color: white;padding-right: 0.2em;padding-left: 0.2em;position: relative;}#sk-container-id-2 div.sk-item {position: relative;z-index: 1;}#sk-container-id-2 div.sk-parallel {display: flex;align-items: stretch;justify-content: center;background-color: white;position: relative;}#sk-container-id-2 div.sk-item::before, #sk-container-id-2 div.sk-parallel-item::before {content: \"\";position: absolute;border-left: 1px solid gray;box-sizing: border-box;top: 0;bottom: 0;left: 50%;z-index: -1;}#sk-container-id-2 div.sk-parallel-item {display: flex;flex-direction: column;z-index: 1;position: relative;background-color: white;}#sk-container-id-2 div.sk-parallel-item:first-child::after {align-self: flex-end;width: 50%;}#sk-container-id-2 div.sk-parallel-item:last-child::after {align-self: flex-start;width: 50%;}#sk-container-id-2 div.sk-parallel-item:only-child::after {width: 0;}#sk-container-id-2 div.sk-dashed-wrapped {border: 1px dashed gray;margin: 0 0.4em 0.5em 0.4em;box-sizing: border-box;padding-bottom: 0.4em;background-color: white;}#sk-container-id-2 div.sk-label label {font-family: monospace;font-weight: bold;display: inline-block;line-height: 1.2em;}#sk-container-id-2 div.sk-label-container {text-align: center;}#sk-container-id-2 div.sk-container {/* jupyter's `normalize.less` sets `[hidden] { display: none; }` but bootstrap.min.css set `[hidden] { display: none !important; }` so we also need the `!important` here to be able to override the default hidden behavior on the sphinx rendered scikit-learn.org. See: https://github.com/scikit-learn/scikit-learn/issues/21755 */display: inline-block !important;position: relative;}#sk-container-id-2 div.sk-text-repr-fallback {display: none;}</style><div id=\"sk-container-id-2\" class=\"sk-top-container\"><div class=\"sk-text-repr-fallback\"><pre>GridSearchCV(cv=5,\n",
       "             estimator=Pipeline(steps=[(&#x27;columntransformer&#x27;,\n",
       "                                        ColumnTransformer(transformers=[(&#x27;standardscaler&#x27;,\n",
       "                                                                         StandardScaler(),\n",
       "                                                                         [&#x27;resting_blood_pressure&#x27;,\n",
       "                                                                          &#x27;max_heart_rate&#x27;])])),\n",
       "                                       (&#x27;kneighborsclassifier&#x27;,\n",
       "                                        KNeighborsClassifier())]),\n",
       "             param_grid={&#x27;kneighborsclassifier__n_neighbors&#x27;: range(1, 30)})</pre><b>In a Jupyter environment, please rerun this cell to show the HTML representation or trust the notebook. <br />On GitHub, the HTML representation is unable to render, please try loading this page with nbviewer.org.</b></div><div class=\"sk-container\" hidden><div class=\"sk-item sk-dashed-wrapped\"><div class=\"sk-label-container\"><div class=\"sk-label sk-toggleable\"><input class=\"sk-toggleable__control sk-hidden--visually\" id=\"sk-estimator-id-7\" type=\"checkbox\" ><label for=\"sk-estimator-id-7\" class=\"sk-toggleable__label sk-toggleable__label-arrow\">GridSearchCV</label><div class=\"sk-toggleable__content\"><pre>GridSearchCV(cv=5,\n",
       "             estimator=Pipeline(steps=[(&#x27;columntransformer&#x27;,\n",
       "                                        ColumnTransformer(transformers=[(&#x27;standardscaler&#x27;,\n",
       "                                                                         StandardScaler(),\n",
       "                                                                         [&#x27;resting_blood_pressure&#x27;,\n",
       "                                                                          &#x27;max_heart_rate&#x27;])])),\n",
       "                                       (&#x27;kneighborsclassifier&#x27;,\n",
       "                                        KNeighborsClassifier())]),\n",
       "             param_grid={&#x27;kneighborsclassifier__n_neighbors&#x27;: range(1, 30)})</pre></div></div></div><div class=\"sk-parallel\"><div class=\"sk-parallel-item\"><div class=\"sk-item\"><div class=\"sk-label-container\"><div class=\"sk-label sk-toggleable\"><input class=\"sk-toggleable__control sk-hidden--visually\" id=\"sk-estimator-id-8\" type=\"checkbox\" ><label for=\"sk-estimator-id-8\" class=\"sk-toggleable__label sk-toggleable__label-arrow\">estimator: Pipeline</label><div class=\"sk-toggleable__content\"><pre>Pipeline(steps=[(&#x27;columntransformer&#x27;,\n",
       "                 ColumnTransformer(transformers=[(&#x27;standardscaler&#x27;,\n",
       "                                                  StandardScaler(),\n",
       "                                                  [&#x27;resting_blood_pressure&#x27;,\n",
       "                                                   &#x27;max_heart_rate&#x27;])])),\n",
       "                (&#x27;kneighborsclassifier&#x27;, KNeighborsClassifier())])</pre></div></div></div><div class=\"sk-serial\"><div class=\"sk-item\"><div class=\"sk-serial\"><div class=\"sk-item sk-dashed-wrapped\"><div class=\"sk-label-container\"><div class=\"sk-label sk-toggleable\"><input class=\"sk-toggleable__control sk-hidden--visually\" id=\"sk-estimator-id-9\" type=\"checkbox\" ><label for=\"sk-estimator-id-9\" class=\"sk-toggleable__label sk-toggleable__label-arrow\">columntransformer: ColumnTransformer</label><div class=\"sk-toggleable__content\"><pre>ColumnTransformer(transformers=[(&#x27;standardscaler&#x27;, StandardScaler(),\n",
       "                                 [&#x27;resting_blood_pressure&#x27;, &#x27;max_heart_rate&#x27;])])</pre></div></div></div><div class=\"sk-parallel\"><div class=\"sk-parallel-item\"><div class=\"sk-item\"><div class=\"sk-label-container\"><div class=\"sk-label sk-toggleable\"><input class=\"sk-toggleable__control sk-hidden--visually\" id=\"sk-estimator-id-10\" type=\"checkbox\" ><label for=\"sk-estimator-id-10\" class=\"sk-toggleable__label sk-toggleable__label-arrow\">standardscaler</label><div class=\"sk-toggleable__content\"><pre>[&#x27;resting_blood_pressure&#x27;, &#x27;max_heart_rate&#x27;]</pre></div></div></div><div class=\"sk-serial\"><div class=\"sk-item\"><div class=\"sk-estimator sk-toggleable\"><input class=\"sk-toggleable__control sk-hidden--visually\" id=\"sk-estimator-id-11\" type=\"checkbox\" ><label for=\"sk-estimator-id-11\" class=\"sk-toggleable__label sk-toggleable__label-arrow\">StandardScaler</label><div class=\"sk-toggleable__content\"><pre>StandardScaler()</pre></div></div></div></div></div></div></div></div><div class=\"sk-item\"><div class=\"sk-estimator sk-toggleable\"><input class=\"sk-toggleable__control sk-hidden--visually\" id=\"sk-estimator-id-12\" type=\"checkbox\" ><label for=\"sk-estimator-id-12\" class=\"sk-toggleable__label sk-toggleable__label-arrow\">KNeighborsClassifier</label><div class=\"sk-toggleable__content\"><pre>KNeighborsClassifier()</pre></div></div></div></div></div></div></div></div></div></div></div></div>"
      ],
      "text/plain": [
       "GridSearchCV(cv=5,\n",
       "             estimator=Pipeline(steps=[('columntransformer',\n",
       "                                        ColumnTransformer(transformers=[('standardscaler',\n",
       "                                                                         StandardScaler(),\n",
       "                                                                         ['resting_blood_pressure',\n",
       "                                                                          'max_heart_rate'])])),\n",
       "                                       ('kneighborsclassifier',\n",
       "                                        KNeighborsClassifier())]),\n",
       "             param_grid={'kneighborsclassifier__n_neighbors': range(1, 30)})"
      ]
     },
     "execution_count": 17,
     "metadata": {},
     "output_type": "execute_result"
    }
   ],
   "source": [
    "knn = KNeighborsClassifier()\n",
    "tune_pipe_restbp_maxhr = make_pipeline(hd_preprocessor_restbp_maxhr, knn)\n",
    "param_grid = {\"kneighborsclassifier__n_neighbors\": range(1, 30)}\n",
    "\n",
    "tune_grid_restbp_maxhr = GridSearchCV(\n",
    "    estimator=tune_pipe_restbp_maxhr,\n",
    "    param_grid=param_grid,\n",
    "    cv=5\n",
    ")\n",
    "tune_grid_restbp_maxhr"
   ]
  },
  {
   "cell_type": "markdown",
   "id": "2907de68-fb76-4910-a31b-324668d211be",
   "metadata": {},
   "source": [
    "We will check the cross-validation accuracy estimate and the standard error for the K values from 1 to 29."
   ]
  },
  {
   "cell_type": "code",
   "execution_count": 18,
   "id": "76b9a768-f8c5-465c-a225-38852de60e96",
   "metadata": {},
   "outputs": [
    {
     "name": "stderr",
     "output_type": "stream",
     "text": [
      "/opt/conda/lib/python3.10/site-packages/altair/utils/core.py:317: FutureWarning: iteritems is deprecated and will be removed in a future version. Use .items instead.\n",
      "  for col_name, dtype in df.dtypes.iteritems():\n"
     ]
    },
    {
     "data": {
      "text/html": [
       "\n",
       "<div id=\"altair-viz-3c78c4fbc1a543aabce3b404febfad2a\"></div>\n",
       "<script type=\"text/javascript\">\n",
       "  var VEGA_DEBUG = (typeof VEGA_DEBUG == \"undefined\") ? {} : VEGA_DEBUG;\n",
       "  (function(spec, embedOpt){\n",
       "    let outputDiv = document.currentScript.previousElementSibling;\n",
       "    if (outputDiv.id !== \"altair-viz-3c78c4fbc1a543aabce3b404febfad2a\") {\n",
       "      outputDiv = document.getElementById(\"altair-viz-3c78c4fbc1a543aabce3b404febfad2a\");\n",
       "    }\n",
       "    const paths = {\n",
       "      \"vega\": \"https://cdn.jsdelivr.net/npm//vega@5?noext\",\n",
       "      \"vega-lib\": \"https://cdn.jsdelivr.net/npm//vega-lib?noext\",\n",
       "      \"vega-lite\": \"https://cdn.jsdelivr.net/npm//vega-lite@4.17.0?noext\",\n",
       "      \"vega-embed\": \"https://cdn.jsdelivr.net/npm//vega-embed@6?noext\",\n",
       "    };\n",
       "\n",
       "    function maybeLoadScript(lib, version) {\n",
       "      var key = `${lib.replace(\"-\", \"\")}_version`;\n",
       "      return (VEGA_DEBUG[key] == version) ?\n",
       "        Promise.resolve(paths[lib]) :\n",
       "        new Promise(function(resolve, reject) {\n",
       "          var s = document.createElement('script');\n",
       "          document.getElementsByTagName(\"head\")[0].appendChild(s);\n",
       "          s.async = true;\n",
       "          s.onload = () => {\n",
       "            VEGA_DEBUG[key] = version;\n",
       "            return resolve(paths[lib]);\n",
       "          };\n",
       "          s.onerror = () => reject(`Error loading script: ${paths[lib]}`);\n",
       "          s.src = paths[lib];\n",
       "        });\n",
       "    }\n",
       "\n",
       "    function showError(err) {\n",
       "      outputDiv.innerHTML = `<div class=\"error\" style=\"color:red;\">${err}</div>`;\n",
       "      throw err;\n",
       "    }\n",
       "\n",
       "    function displayChart(vegaEmbed) {\n",
       "      vegaEmbed(outputDiv, spec, embedOpt)\n",
       "        .catch(err => showError(`Javascript Error: ${err.message}<br>This usually means there's a typo in your chart specification. See the javascript console for the full traceback.`));\n",
       "    }\n",
       "\n",
       "    if(typeof define === \"function\" && define.amd) {\n",
       "      requirejs.config({paths});\n",
       "      require([\"vega-embed\"], displayChart, err => showError(`Error loading script: ${err.message}`));\n",
       "    } else {\n",
       "      maybeLoadScript(\"vega\", \"5\")\n",
       "        .then(() => maybeLoadScript(\"vega-lite\", \"4.17.0\"))\n",
       "        .then(() => maybeLoadScript(\"vega-embed\", \"6\"))\n",
       "        .catch(showError)\n",
       "        .then(() => displayChart(vegaEmbed));\n",
       "    }\n",
       "  })({\"config\": {\"view\": {\"continuousWidth\": 400, \"continuousHeight\": 300}}, \"repeat\": {\"column\": [\"n_neighbors\"], \"row\": [\"mean_test_score\", \"sem_test_score\"]}, \"spec\": {\"data\": {\"name\": \"data-5d7bf98794cb63deb84b6c4f6e6fec61\"}, \"mark\": {\"type\": \"line\", \"point\": true}, \"encoding\": {\"x\": {\"field\": {\"repeat\": \"column\"}, \"type\": \"quantitative\"}, \"y\": {\"field\": {\"repeat\": \"row\"}, \"scale\": {\"zero\": false}, \"type\": \"quantitative\"}}, \"height\": 300, \"width\": 300}, \"$schema\": \"https://vega.github.io/schema/vega-lite/v4.17.0.json\", \"datasets\": {\"data-5d7bf98794cb63deb84b6c4f6e6fec61\": [{\"n_neighbors\": 1, \"mean_test_score\": 0.5727272727272728, \"sem_test_score\": 0.027035066240946825}, {\"n_neighbors\": 2, \"mean_test_score\": 0.5904040404040404, \"sem_test_score\": 0.016715264317929378}, {\"n_neighbors\": 3, \"mean_test_score\": 0.595050505050505, \"sem_test_score\": 0.014962593224451702}, {\"n_neighbors\": 4, \"mean_test_score\": 0.5813131313131313, \"sem_test_score\": 0.015129276609051492}, {\"n_neighbors\": 5, \"mean_test_score\": 0.6128282828282828, \"sem_test_score\": 0.013755410025472913}, {\"n_neighbors\": 6, \"mean_test_score\": 0.6127272727272727, \"sem_test_score\": 0.007622348316481583}, {\"n_neighbors\": 7, \"mean_test_score\": 0.6351515151515151, \"sem_test_score\": 0.010327066436977908}, {\"n_neighbors\": 8, \"mean_test_score\": 0.6080808080808081, \"sem_test_score\": 0.00733210886624626}, {\"n_neighbors\": 9, \"mean_test_score\": 0.6308080808080808, \"sem_test_score\": 0.010886621079036346}, {\"n_neighbors\": 10, \"mean_test_score\": 0.6395959595959597, \"sem_test_score\": 0.012091124273419997}, {\"n_neighbors\": 11, \"mean_test_score\": 0.6487878787878788, \"sem_test_score\": 0.010173778291170197}, {\"n_neighbors\": 12, \"mean_test_score\": 0.6487878787878788, \"sem_test_score\": 0.016394969378325568}, {\"n_neighbors\": 13, \"mean_test_score\": 0.6623232323232322, \"sem_test_score\": 0.012335479921403039}, {\"n_neighbors\": 14, \"mean_test_score\": 0.6576767676767676, \"sem_test_score\": 0.015911383512860765}, {\"n_neighbors\": 15, \"mean_test_score\": 0.6667676767676768, \"sem_test_score\": 0.008965123048933698}, {\"n_neighbors\": 16, \"mean_test_score\": 0.6802020202020203, \"sem_test_score\": 0.011290742637180742}, {\"n_neighbors\": 17, \"mean_test_score\": 0.6756565656565656, \"sem_test_score\": 0.0034821391898392793}, {\"n_neighbors\": 18, \"mean_test_score\": 0.6712121212121213, \"sem_test_score\": 0.011499191491521378}, {\"n_neighbors\": 19, \"mean_test_score\": 0.6759595959595959, \"sem_test_score\": 0.008549894970687939}, {\"n_neighbors\": 20, \"mean_test_score\": 0.6576767676767676, \"sem_test_score\": 0.008198884806496366}, {\"n_neighbors\": 21, \"mean_test_score\": 0.6712121212121211, \"sem_test_score\": 0.007041787902195308}, {\"n_neighbors\": 22, \"mean_test_score\": 0.6665656565656566, \"sem_test_score\": 0.010714881846782591}, {\"n_neighbors\": 23, \"mean_test_score\": 0.6711111111111111, \"sem_test_score\": 0.0038455541745630157}, {\"n_neighbors\": 24, \"mean_test_score\": 0.6620202020202021, \"sem_test_score\": 0.008348715524748225}, {\"n_neighbors\": 25, \"mean_test_score\": 0.6801010101010101, \"sem_test_score\": 0.00563813736979814}, {\"n_neighbors\": 26, \"mean_test_score\": 0.6664646464646464, \"sem_test_score\": 0.011835694526818001}, {\"n_neighbors\": 27, \"mean_test_score\": 0.6709090909090909, \"sem_test_score\": 0.01038028080392873}, {\"n_neighbors\": 28, \"mean_test_score\": 0.6708080808080809, \"sem_test_score\": 0.01465774556855642}, {\"n_neighbors\": 29, \"mean_test_score\": 0.6842424242424243, \"sem_test_score\": 0.015702246815198252}]}}, {\"mode\": \"vega-lite\"});\n",
       "</script>"
      ],
      "text/plain": [
       "alt.RepeatChart(...)"
      ]
     },
     "execution_count": 18,
     "metadata": {},
     "output_type": "execute_result"
    }
   ],
   "source": [
    "accuracies_grid_restbp_maxhr = pd.DataFrame(\n",
    "    tune_grid_restbp_maxhr.fit(X_train_restbp_maxhr, y).cv_results_\n",
    ")\n",
    "\n",
    "accuracies_restbp_maxhr = accuracies_grid_restbp_maxhr[[\"param_kneighborsclassifier__n_neighbors\", \"mean_test_score\", \"std_test_score\"]\n",
    "              ].assign(\n",
    "                  sem_test_score = accuracies_grid_restbp_maxhr[\"std_test_score\"] / 10**(1/2)\n",
    "              ).rename(\n",
    "                  columns = {\"param_kneighborsclassifier__n_neighbors\" : \"n_neighbors\"}\n",
    "              ).drop(\n",
    "                  columns = [\"std_test_score\"]\n",
    "              )\n",
    "\n",
    "accuracy_k_grid_restbp_maxhr = (\n",
    "    alt.Chart(accuracies_restbp_maxhr)\n",
    "    .mark_line(point=True)\n",
    "    .encode(\n",
    "      alt.X(alt.repeat(\"column\"), type='quantitative'),\n",
    "      alt.Y(alt.repeat(\"row\"), type='quantitative', scale=alt.Scale(zero=False)),\n",
    "    )\n",
    "    .properties(width=300, height=300)\n",
    "    .repeat(\n",
    "      row=['mean_test_score', 'sem_test_score'],\n",
    "      column=['n_neighbors']\n",
    "    )\n",
    ")\n",
    "accuracy_k_grid_restbp_maxhr"
   ]
  },
  {
   "cell_type": "markdown",
   "id": "b42f043e-d01d-4c5a-9d1b-34dd8adbc4eb",
   "metadata": {},
   "source": [
    "We can see K>16 shows higher test scores than K<17 with lower values of the standard error. So, we will pick up K=17 here."
   ]
  },
  {
   "cell_type": "code",
   "execution_count": 19,
   "id": "6d7f0df4-3664-4bda-a484-3feddf44073a",
   "metadata": {},
   "outputs": [
    {
     "name": "stdout",
     "output_type": "stream",
     "text": [
      "Ratio of correct prediction:  0.7072072072072072\n",
      "Accuracy:  0.7072072072072072\n"
     ]
    }
   ],
   "source": [
    "# try to see the result with n=17\n",
    "knn_17 = KNeighborsClassifier(n_neighbors=17)\n",
    "knn_fit_restbp_maxhr_17 = make_pipeline(hd_preprocessor_restbp_maxhr, knn_17).fit(X_train_restbp_maxhr, y)\n",
    "\n",
    "pred_restbp_maxhr_17 = hd_train.assign(\n",
    "    predicted = knn_fit_restbp_maxhr_17.predict(hd_train.loc[:, [\"resting_blood_pressure\", \"max_heart_rate\"]])\n",
    ")\n",
    "\n",
    "# check the accuracy of the prediction by the ratio\n",
    "correct_preds_restbp_maxhr_17 = pred_restbp_maxhr_17[\n",
    "    pred_restbp_maxhr_17[\"heart_disease\"] == pred_restbp_maxhr_17[\"predicted\"]\n",
    "]\n",
    "print(\"Ratio of correct prediction: \", correct_preds_restbp_maxhr_17.shape[0] / pred_restbp_maxhr_17.shape[0])\n",
    "\n",
    "# check the score of accuracy\n",
    "pred_accuracy_restbp_maxhr_17 = knn_fit_restbp_maxhr_17.score(\n",
    "    X = X_train_restbp_maxhr,\n",
    "    y = y\n",
    ")\n",
    "print(\"Accuracy: \", pred_accuracy_restbp_maxhr_17)"
   ]
  },
  {
   "cell_type": "code",
   "execution_count": 20,
   "id": "7066bb39-7aca-47cf-9d78-eb283580049d",
   "metadata": {},
   "outputs": [
    {
     "data": {
      "text/plain": [
       "<sklearn.metrics._plot.confusion_matrix.ConfusionMatrixDisplay at 0x7f867c8e5180>"
      ]
     },
     "execution_count": 20,
     "metadata": {},
     "output_type": "execute_result"
    },
    {
     "data": {
      "image/png": "[encoded data removed]",
      "text/plain": [
       "<Figure size 640x480 with 2 Axes>"
      ]
     },
     "metadata": {},
     "output_type": "display_data"
    }
   ],
   "source": [
    "restbp_maxhr_17_mat = confusion_matrix(\n",
    "    pred_restbp_maxhr_17[\"heart_disease\"],  # true labels\n",
    "    pred_restbp_maxhr_17[\"predicted\"],  # predicted labels\n",
    "    labels=knn_fit_restbp_maxhr_17.classes_, # specify the label for each class\n",
    ")\n",
    "disp_restbp_maxhr_17 = ConfusionMatrixDisplay(\n",
    "    confusion_matrix=restbp_maxhr_17_mat, display_labels=knn_fit_restbp_maxhr_17.classes_\n",
    ")\n",
    "disp_restbp_maxhr_17.plot()"
   ]
  },
  {
   "cell_type": "markdown",
   "id": "cfe3c49a-1c21-4413-beb4-f4e6b2db0b64",
   "metadata": {},
   "source": [
    "We would choose K=17 beased on the high test score and a low standard error."
   ]
  },
  {
   "cell_type": "markdown",
   "id": "996bcdf5-1dad-4c8a-ab7b-66158394ee62",
   "metadata": {},
   "source": [
    "#### Relationship between Cholesterol and Maximum Heart Rate Achieved\n",
    "\n",
    "We will show a pattern in the two varibles, `cholesterol` and `max_heart_rate`, by using the K nearest neighbors classification. First, we will perform 5-fold and 10-fold cross-validation with K=5 to see the mean value of the test scores."
   ]
  },
  {
   "cell_type": "code",
   "execution_count": 21,
   "id": "0c5d51b1-3e0f-4bad-adda-4bda0f1fedb1",
   "metadata": {},
   "outputs": [
    {
     "name": "stdout",
     "output_type": "stream",
     "text": [
      "Mean test score (5-fold cross-validation):  0.6393939393939394\n",
      "Mean test score (10-fold cross-validation):  0.6480237154150197\n"
     ]
    }
   ],
   "source": [
    "# try to see the result with n=5\n",
    "X_train_chol_maxhr = hd_train.loc[:, [\"cholesterol\", \"max_heart_rate\"]]\n",
    "y = hd_train[\"heart_disease\"]\n",
    "\n",
    "hd_preprocessor_chol_maxhr = make_column_transformer(\n",
    "    (StandardScaler(), [\"cholesterol\", \"max_heart_rate\"]),\n",
    ")\n",
    "pipe_chol_maxhr_k5 = make_pipeline(hd_preprocessor_chol_maxhr, knn_5)\n",
    "knn_fit_chol_maxhr = pipe_chol_maxhr_k5.fit(X_train_chol_maxhr, y)\n",
    "\n",
    "cv_5_df_3 = pd.DataFrame(\n",
    "    cross_validate(estimator = pipe_chol_maxhr_k5, cv=5, X=X_train_chol_maxhr, y=y, return_train_score=True)\n",
    ")\n",
    "print(\"Mean test score (5-fold cross-validation): \", cv_5_df_3[\"test_score\"].mean())\n",
    "\n",
    "cv_10_df_3 = pd.DataFrame(\n",
    "    cross_validate(estimator = pipe_chol_maxhr_k5, cv=10, X=X_train_chol_maxhr, y=y, return_train_score=True)\n",
    ")\n",
    "print(\"Mean test score (10-fold cross-validation): \", cv_10_df_3[\"test_score\"].mean())"
   ]
  },
  {
   "cell_type": "markdown",
   "id": "c62bd9d5-c57e-4dd9-8018-c9a61974747f",
   "metadata": {},
   "source": [
    "So, the test score with K=5 may be around 64%. Now we will look for the best K to improve our prediction. Now we will look for a best K to improve our prediction."
   ]
  },
  {
   "cell_type": "code",
   "execution_count": 22,
   "id": "96a47b01-3836-423a-99e4-7c2ab442062b",
   "metadata": {},
   "outputs": [
    {
     "data": {
      "text/html": [
       "<style>#sk-container-id-3 {color: black;background-color: white;}#sk-container-id-3 pre{padding: 0;}#sk-container-id-3 div.sk-toggleable {background-color: white;}#sk-container-id-3 label.sk-toggleable__label {cursor: pointer;display: block;width: 100%;margin-bottom: 0;padding: 0.3em;box-sizing: border-box;text-align: center;}#sk-container-id-3 label.sk-toggleable__label-arrow:before {content: \"▸\";float: left;margin-right: 0.25em;color: #696969;}#sk-container-id-3 label.sk-toggleable__label-arrow:hover:before {color: black;}#sk-container-id-3 div.sk-estimator:hover label.sk-toggleable__label-arrow:before {color: black;}#sk-container-id-3 div.sk-toggleable__content {max-height: 0;max-width: 0;overflow: hidden;text-align: left;background-color: #f0f8ff;}#sk-container-id-3 div.sk-toggleable__content pre {margin: 0.2em;color: black;border-radius: 0.25em;background-color: #f0f8ff;}#sk-container-id-3 input.sk-toggleable__control:checked~div.sk-toggleable__content {max-height: 200px;max-width: 100%;overflow: auto;}#sk-container-id-3 input.sk-toggleable__control:checked~label.sk-toggleable__label-arrow:before {content: \"▾\";}#sk-container-id-3 div.sk-estimator input.sk-toggleable__control:checked~label.sk-toggleable__label {background-color: #d4ebff;}#sk-container-id-3 div.sk-label input.sk-toggleable__control:checked~label.sk-toggleable__label {background-color: #d4ebff;}#sk-container-id-3 input.sk-hidden--visually {border: 0;clip: rect(1px 1px 1px 1px);clip: rect(1px, 1px, 1px, 1px);height: 1px;margin: -1px;overflow: hidden;padding: 0;position: absolute;width: 1px;}#sk-container-id-3 div.sk-estimator {font-family: monospace;background-color: #f0f8ff;border: 1px dotted black;border-radius: 0.25em;box-sizing: border-box;margin-bottom: 0.5em;}#sk-container-id-3 div.sk-estimator:hover {background-color: #d4ebff;}#sk-container-id-3 div.sk-parallel-item::after {content: \"\";width: 100%;border-bottom: 1px solid gray;flex-grow: 1;}#sk-container-id-3 div.sk-label:hover label.sk-toggleable__label {background-color: #d4ebff;}#sk-container-id-3 div.sk-serial::before {content: \"\";position: absolute;border-left: 1px solid gray;box-sizing: border-box;top: 0;bottom: 0;left: 50%;z-index: 0;}#sk-container-id-3 div.sk-serial {display: flex;flex-direction: column;align-items: center;background-color: white;padding-right: 0.2em;padding-left: 0.2em;position: relative;}#sk-container-id-3 div.sk-item {position: relative;z-index: 1;}#sk-container-id-3 div.sk-parallel {display: flex;align-items: stretch;justify-content: center;background-color: white;position: relative;}#sk-container-id-3 div.sk-item::before, #sk-container-id-3 div.sk-parallel-item::before {content: \"\";position: absolute;border-left: 1px solid gray;box-sizing: border-box;top: 0;bottom: 0;left: 50%;z-index: -1;}#sk-container-id-3 div.sk-parallel-item {display: flex;flex-direction: column;z-index: 1;position: relative;background-color: white;}#sk-container-id-3 div.sk-parallel-item:first-child::after {align-self: flex-end;width: 50%;}#sk-container-id-3 div.sk-parallel-item:last-child::after {align-self: flex-start;width: 50%;}#sk-container-id-3 div.sk-parallel-item:only-child::after {width: 0;}#sk-container-id-3 div.sk-dashed-wrapped {border: 1px dashed gray;margin: 0 0.4em 0.5em 0.4em;box-sizing: border-box;padding-bottom: 0.4em;background-color: white;}#sk-container-id-3 div.sk-label label {font-family: monospace;font-weight: bold;display: inline-block;line-height: 1.2em;}#sk-container-id-3 div.sk-label-container {text-align: center;}#sk-container-id-3 div.sk-container {/* jupyter's `normalize.less` sets `[hidden] { display: none; }` but bootstrap.min.css set `[hidden] { display: none !important; }` so we also need the `!important` here to be able to override the default hidden behavior on the sphinx rendered scikit-learn.org. See: https://github.com/scikit-learn/scikit-learn/issues/21755 */display: inline-block !important;position: relative;}#sk-container-id-3 div.sk-text-repr-fallback {display: none;}</style><div id=\"sk-container-id-3\" class=\"sk-top-container\"><div class=\"sk-text-repr-fallback\"><pre>GridSearchCV(cv=5,\n",
       "             estimator=Pipeline(steps=[(&#x27;columntransformer&#x27;,\n",
       "                                        ColumnTransformer(transformers=[(&#x27;standardscaler&#x27;,\n",
       "                                                                         StandardScaler(),\n",
       "                                                                         [&#x27;cholesterol&#x27;,\n",
       "                                                                          &#x27;max_heart_rate&#x27;])])),\n",
       "                                       (&#x27;kneighborsclassifier&#x27;,\n",
       "                                        KNeighborsClassifier())]),\n",
       "             param_grid={&#x27;kneighborsclassifier__n_neighbors&#x27;: range(1, 30)})</pre><b>In a Jupyter environment, please rerun this cell to show the HTML representation or trust the notebook. <br />On GitHub, the HTML representation is unable to render, please try loading this page with nbviewer.org.</b></div><div class=\"sk-container\" hidden><div class=\"sk-item sk-dashed-wrapped\"><div class=\"sk-label-container\"><div class=\"sk-label sk-toggleable\"><input class=\"sk-toggleable__control sk-hidden--visually\" id=\"sk-estimator-id-13\" type=\"checkbox\" ><label for=\"sk-estimator-id-13\" class=\"sk-toggleable__label sk-toggleable__label-arrow\">GridSearchCV</label><div class=\"sk-toggleable__content\"><pre>GridSearchCV(cv=5,\n",
       "             estimator=Pipeline(steps=[(&#x27;columntransformer&#x27;,\n",
       "                                        ColumnTransformer(transformers=[(&#x27;standardscaler&#x27;,\n",
       "                                                                         StandardScaler(),\n",
       "                                                                         [&#x27;cholesterol&#x27;,\n",
       "                                                                          &#x27;max_heart_rate&#x27;])])),\n",
       "                                       (&#x27;kneighborsclassifier&#x27;,\n",
       "                                        KNeighborsClassifier())]),\n",
       "             param_grid={&#x27;kneighborsclassifier__n_neighbors&#x27;: range(1, 30)})</pre></div></div></div><div class=\"sk-parallel\"><div class=\"sk-parallel-item\"><div class=\"sk-item\"><div class=\"sk-label-container\"><div class=\"sk-label sk-toggleable\"><input class=\"sk-toggleable__control sk-hidden--visually\" id=\"sk-estimator-id-14\" type=\"checkbox\" ><label for=\"sk-estimator-id-14\" class=\"sk-toggleable__label sk-toggleable__label-arrow\">estimator: Pipeline</label><div class=\"sk-toggleable__content\"><pre>Pipeline(steps=[(&#x27;columntransformer&#x27;,\n",
       "                 ColumnTransformer(transformers=[(&#x27;standardscaler&#x27;,\n",
       "                                                  StandardScaler(),\n",
       "                                                  [&#x27;cholesterol&#x27;,\n",
       "                                                   &#x27;max_heart_rate&#x27;])])),\n",
       "                (&#x27;kneighborsclassifier&#x27;, KNeighborsClassifier())])</pre></div></div></div><div class=\"sk-serial\"><div class=\"sk-item\"><div class=\"sk-serial\"><div class=\"sk-item sk-dashed-wrapped\"><div class=\"sk-label-container\"><div class=\"sk-label sk-toggleable\"><input class=\"sk-toggleable__control sk-hidden--visually\" id=\"sk-estimator-id-15\" type=\"checkbox\" ><label for=\"sk-estimator-id-15\" class=\"sk-toggleable__label sk-toggleable__label-arrow\">columntransformer: ColumnTransformer</label><div class=\"sk-toggleable__content\"><pre>ColumnTransformer(transformers=[(&#x27;standardscaler&#x27;, StandardScaler(),\n",
       "                                 [&#x27;cholesterol&#x27;, &#x27;max_heart_rate&#x27;])])</pre></div></div></div><div class=\"sk-parallel\"><div class=\"sk-parallel-item\"><div class=\"sk-item\"><div class=\"sk-label-container\"><div class=\"sk-label sk-toggleable\"><input class=\"sk-toggleable__control sk-hidden--visually\" id=\"sk-estimator-id-16\" type=\"checkbox\" ><label for=\"sk-estimator-id-16\" class=\"sk-toggleable__label sk-toggleable__label-arrow\">standardscaler</label><div class=\"sk-toggleable__content\"><pre>[&#x27;cholesterol&#x27;, &#x27;max_heart_rate&#x27;]</pre></div></div></div><div class=\"sk-serial\"><div class=\"sk-item\"><div class=\"sk-estimator sk-toggleable\"><input class=\"sk-toggleable__control sk-hidden--visually\" id=\"sk-estimator-id-17\" type=\"checkbox\" ><label for=\"sk-estimator-id-17\" class=\"sk-toggleable__label sk-toggleable__label-arrow\">StandardScaler</label><div class=\"sk-toggleable__content\"><pre>StandardScaler()</pre></div></div></div></div></div></div></div></div><div class=\"sk-item\"><div class=\"sk-estimator sk-toggleable\"><input class=\"sk-toggleable__control sk-hidden--visually\" id=\"sk-estimator-id-18\" type=\"checkbox\" ><label for=\"sk-estimator-id-18\" class=\"sk-toggleable__label sk-toggleable__label-arrow\">KNeighborsClassifier</label><div class=\"sk-toggleable__content\"><pre>KNeighborsClassifier()</pre></div></div></div></div></div></div></div></div></div></div></div></div>"
      ],
      "text/plain": [
       "GridSearchCV(cv=5,\n",
       "             estimator=Pipeline(steps=[('columntransformer',\n",
       "                                        ColumnTransformer(transformers=[('standardscaler',\n",
       "                                                                         StandardScaler(),\n",
       "                                                                         ['cholesterol',\n",
       "                                                                          'max_heart_rate'])])),\n",
       "                                       ('kneighborsclassifier',\n",
       "                                        KNeighborsClassifier())]),\n",
       "             param_grid={'kneighborsclassifier__n_neighbors': range(1, 30)})"
      ]
     },
     "execution_count": 22,
     "metadata": {},
     "output_type": "execute_result"
    }
   ],
   "source": [
    "knn = KNeighborsClassifier()\n",
    "tune_pipe_chol_maxhr = make_pipeline(hd_preprocessor_chol_maxhr, knn)\n",
    "param_grid = {\"kneighborsclassifier__n_neighbors\": range(1, 30)}\n",
    "\n",
    "tune_grid_chol_maxhr = GridSearchCV(\n",
    "    estimator=tune_pipe_chol_maxhr,\n",
    "    param_grid=param_grid,\n",
    "    cv=5\n",
    ")\n",
    "tune_grid_chol_maxhr"
   ]
  },
  {
   "cell_type": "markdown",
   "id": "b605a618-afe8-40d3-86d8-cfafb2d38430",
   "metadata": {},
   "source": [
    "We will check the cross-validation accuracy estimate and the standard error for the K values from 1 to 29."
   ]
  },
  {
   "cell_type": "code",
   "execution_count": 23,
   "id": "dde67af6-03b6-44cf-9f18-62e43242df5a",
   "metadata": {},
   "outputs": [
    {
     "name": "stderr",
     "output_type": "stream",
     "text": [
      "/opt/conda/lib/python3.10/site-packages/altair/utils/core.py:317: FutureWarning: iteritems is deprecated and will be removed in a future version. Use .items instead.\n",
      "  for col_name, dtype in df.dtypes.iteritems():\n"
     ]
    },
    {
     "data": {
      "text/html": [
       "\n",
       "<div id=\"altair-viz-86b1645d0093425782302f57e7979617\"></div>\n",
       "<script type=\"text/javascript\">\n",
       "  var VEGA_DEBUG = (typeof VEGA_DEBUG == \"undefined\") ? {} : VEGA_DEBUG;\n",
       "  (function(spec, embedOpt){\n",
       "    let outputDiv = document.currentScript.previousElementSibling;\n",
       "    if (outputDiv.id !== \"altair-viz-86b1645d0093425782302f57e7979617\") {\n",
       "      outputDiv = document.getElementById(\"altair-viz-86b1645d0093425782302f57e7979617\");\n",
       "    }\n",
       "    const paths = {\n",
       "      \"vega\": \"https://cdn.jsdelivr.net/npm//vega@5?noext\",\n",
       "      \"vega-lib\": \"https://cdn.jsdelivr.net/npm//vega-lib?noext\",\n",
       "      \"vega-lite\": \"https://cdn.jsdelivr.net/npm//vega-lite@4.17.0?noext\",\n",
       "      \"vega-embed\": \"https://cdn.jsdelivr.net/npm//vega-embed@6?noext\",\n",
       "    };\n",
       "\n",
       "    function maybeLoadScript(lib, version) {\n",
       "      var key = `${lib.replace(\"-\", \"\")}_version`;\n",
       "      return (VEGA_DEBUG[key] == version) ?\n",
       "        Promise.resolve(paths[lib]) :\n",
       "        new Promise(function(resolve, reject) {\n",
       "          var s = document.createElement('script');\n",
       "          document.getElementsByTagName(\"head\")[0].appendChild(s);\n",
       "          s.async = true;\n",
       "          s.onload = () => {\n",
       "            VEGA_DEBUG[key] = version;\n",
       "            return resolve(paths[lib]);\n",
       "          };\n",
       "          s.onerror = () => reject(`Error loading script: ${paths[lib]}`);\n",
       "          s.src = paths[lib];\n",
       "        });\n",
       "    }\n",
       "\n",
       "    function showError(err) {\n",
       "      outputDiv.innerHTML = `<div class=\"error\" style=\"color:red;\">${err}</div>`;\n",
       "      throw err;\n",
       "    }\n",
       "\n",
       "    function displayChart(vegaEmbed) {\n",
       "      vegaEmbed(outputDiv, spec, embedOpt)\n",
       "        .catch(err => showError(`Javascript Error: ${err.message}<br>This usually means there's a typo in your chart specification. See the javascript console for the full traceback.`));\n",
       "    }\n",
       "\n",
       "    if(typeof define === \"function\" && define.amd) {\n",
       "      requirejs.config({paths});\n",
       "      require([\"vega-embed\"], displayChart, err => showError(`Error loading script: ${err.message}`));\n",
       "    } else {\n",
       "      maybeLoadScript(\"vega\", \"5\")\n",
       "        .then(() => maybeLoadScript(\"vega-lite\", \"4.17.0\"))\n",
       "        .then(() => maybeLoadScript(\"vega-embed\", \"6\"))\n",
       "        .catch(showError)\n",
       "        .then(() => displayChart(vegaEmbed));\n",
       "    }\n",
       "  })({\"config\": {\"view\": {\"continuousWidth\": 400, \"continuousHeight\": 300}}, \"repeat\": {\"column\": [\"n_neighbors\"], \"row\": [\"mean_test_score\", \"sem_test_score\"]}, \"spec\": {\"data\": {\"name\": \"data-e72b9e5a76f647ab633123ed0e846e2f\"}, \"mark\": {\"type\": \"line\", \"point\": true}, \"encoding\": {\"x\": {\"field\": {\"repeat\": \"column\"}, \"type\": \"quantitative\"}, \"y\": {\"field\": {\"repeat\": \"row\"}, \"scale\": {\"zero\": false}, \"type\": \"quantitative\"}}, \"height\": 300, \"width\": 300}, \"$schema\": \"https://vega.github.io/schema/vega-lite/v4.17.0.json\", \"datasets\": {\"data-e72b9e5a76f647ab633123ed0e846e2f\": [{\"n_neighbors\": 1, \"mean_test_score\": 0.5406060606060606, \"sem_test_score\": 0.018178899878029776}, {\"n_neighbors\": 2, \"mean_test_score\": 0.5406060606060606, \"sem_test_score\": 0.015597673533288739}, {\"n_neighbors\": 3, \"mean_test_score\": 0.5811111111111111, \"sem_test_score\": 0.0165103165319291}, {\"n_neighbors\": 4, \"mean_test_score\": 0.5630303030303029, \"sem_test_score\": 0.013341518760793604}, {\"n_neighbors\": 5, \"mean_test_score\": 0.6393939393939394, \"sem_test_score\": 0.014891711970067412}, {\"n_neighbors\": 6, \"mean_test_score\": 0.5945454545454545, \"sem_test_score\": 0.010216711094736257}, {\"n_neighbors\": 7, \"mean_test_score\": 0.6349494949494949, \"sem_test_score\": 0.010014987238677761}, {\"n_neighbors\": 8, \"mean_test_score\": 0.6304040404040403, \"sem_test_score\": 0.017458800454056445}, {\"n_neighbors\": 9, \"mean_test_score\": 0.639090909090909, \"sem_test_score\": 0.01943377642550501}, {\"n_neighbors\": 10, \"mean_test_score\": 0.616969696969697, \"sem_test_score\": 0.01695213136091707}, {\"n_neighbors\": 11, \"mean_test_score\": 0.6529292929292929, \"sem_test_score\": 0.019125456422235804}, {\"n_neighbors\": 12, \"mean_test_score\": 0.6126262626262626, \"sem_test_score\": 0.016210783795805792}, {\"n_neighbors\": 13, \"mean_test_score\": 0.6307070707070707, \"sem_test_score\": 0.013512116341707297}, {\"n_neighbors\": 14, \"mean_test_score\": 0.6125252525252526, \"sem_test_score\": 0.01523994397154701}, {\"n_neighbors\": 15, \"mean_test_score\": 0.6714141414141415, \"sem_test_score\": 0.01541739775233581}, {\"n_neighbors\": 16, \"mean_test_score\": 0.6621212121212121, \"sem_test_score\": 0.015000595165555455}, {\"n_neighbors\": 17, \"mean_test_score\": 0.6622222222222222, \"sem_test_score\": 0.011779440948460132}, {\"n_neighbors\": 18, \"mean_test_score\": 0.6531313131313132, \"sem_test_score\": 0.015416669768942183}, {\"n_neighbors\": 19, \"mean_test_score\": 0.666969696969697, \"sem_test_score\": 0.011339075590245521}, {\"n_neighbors\": 20, \"mean_test_score\": 0.6714141414141415, \"sem_test_score\": 0.009787352353690782}, {\"n_neighbors\": 21, \"mean_test_score\": 0.6533333333333333, \"sem_test_score\": 0.008831656891699815}, {\"n_neighbors\": 22, \"mean_test_score\": 0.657878787878788, \"sem_test_score\": 0.010590464723846359}, {\"n_neighbors\": 23, \"mean_test_score\": 0.648989898989899, \"sem_test_score\": 0.010367199655208237}, {\"n_neighbors\": 24, \"mean_test_score\": 0.6397979797979798, \"sem_test_score\": 0.0068726963936146775}, {\"n_neighbors\": 25, \"mean_test_score\": 0.6533333333333333, \"sem_test_score\": 0.006204191374643647}, {\"n_neighbors\": 26, \"mean_test_score\": 0.6666666666666667, \"sem_test_score\": 0.009268192813089838}, {\"n_neighbors\": 27, \"mean_test_score\": 0.6533333333333333, \"sem_test_score\": 0.008831656891699815}, {\"n_neighbors\": 28, \"mean_test_score\": 0.6664646464646464, \"sem_test_score\": 0.007756497189330839}, {\"n_neighbors\": 29, \"mean_test_score\": 0.6666666666666667, \"sem_test_score\": 0.005161408602440891}]}}, {\"mode\": \"vega-lite\"});\n",
       "</script>"
      ],
      "text/plain": [
       "alt.RepeatChart(...)"
      ]
     },
     "execution_count": 23,
     "metadata": {},
     "output_type": "execute_result"
    }
   ],
   "source": [
    "accuracies_grid_chol_maxhr = pd.DataFrame(\n",
    "    tune_grid_chol_maxhr\n",
    "    .fit(X_train_chol_maxhr, y).cv_results_\n",
    ")\n",
    "\n",
    "accuracies_chol_maxhr = accuracies_grid_chol_maxhr[[\"param_kneighborsclassifier__n_neighbors\", \"mean_test_score\", \"std_test_score\"]\n",
    "              ].assign(\n",
    "                  sem_test_score = accuracies_grid_chol_maxhr[\"std_test_score\"] / 10**(1/2)\n",
    "              ).rename(\n",
    "                  columns = {\"param_kneighborsclassifier__n_neighbors\" : \"n_neighbors\"}\n",
    "              ).drop(\n",
    "                  columns = [\"std_test_score\"]\n",
    "              )\n",
    "\n",
    "accuracy_k_grid_chol_maxhr = (\n",
    "    alt.Chart(accuracies_chol_maxhr)\n",
    "    .mark_line(point=True)\n",
    "    .encode(\n",
    "      alt.X(alt.repeat(\"column\"), type='quantitative'),\n",
    "      alt.Y(alt.repeat(\"row\"), type='quantitative', scale=alt.Scale(zero=False)),\n",
    "    )\n",
    "    .properties(width=300, height=300)\n",
    "    .repeat(\n",
    "      row=['mean_test_score', 'sem_test_score'],\n",
    "      column=['n_neighbors']\n",
    "    )\n",
    ")\n",
    "accuracy_k_grid_chol_maxhr"
   ]
  },
  {
   "cell_type": "markdown",
   "id": "a8a2243c-780d-4abf-9af0-9a708c728792",
   "metadata": {},
   "source": [
    "We can see K>15 shows higher test scores than K<16 with lower values of the standard error. So, we will pick up K=20 here."
   ]
  },
  {
   "cell_type": "code",
   "execution_count": 24,
   "id": "dd2dcf10-8ac3-4960-8ee4-e5566c226f05",
   "metadata": {},
   "outputs": [
    {
     "name": "stdout",
     "output_type": "stream",
     "text": [
      "Ratio of correct prediction:  0.7072072072072072\n",
      "Accuracy:  0.7072072072072072\n"
     ]
    }
   ],
   "source": [
    "# try to see the result with n=20\n",
    "knn_20 = KNeighborsClassifier(n_neighbors=20)\n",
    "knn_fit_chol_maxhr_20 = make_pipeline(hd_preprocessor_chol_maxhr, knn_20).fit(X_train_chol_maxhr, y)\n",
    "\n",
    "pred_chol_maxhr_20 = hd_train.assign(\n",
    "    predicted = knn_fit_chol_maxhr_20.predict(X_train_chol_maxhr)\n",
    ")\n",
    "\n",
    "# check the accuracy of the prediction by the ratio\n",
    "correct_preds_chol_maxhr_20 = pred_chol_maxhr_20[\n",
    "    pred_chol_maxhr_20[\"heart_disease\"] == pred_chol_maxhr_20[\"predicted\"]\n",
    "]\n",
    "print(\"Ratio of correct prediction: \", correct_preds_chol_maxhr_20.shape[0] / pred_chol_maxhr_20.shape[0])\n",
    "\n",
    "# check the score of accuracy\n",
    "pred_accuracy_chol_maxhr_20 = knn_fit_chol_maxhr_20.score(\n",
    "    X = X_train_chol_maxhr,\n",
    "    y = y\n",
    ")\n",
    "print(\"Accuracy: \", pred_accuracy_chol_maxhr_20)"
   ]
  },
  {
   "cell_type": "code",
   "execution_count": 25,
   "id": "f17cbf5a-f924-4e06-8ec8-e54d684bc572",
   "metadata": {},
   "outputs": [
    {
     "data": {
      "text/plain": [
       "<sklearn.metrics._plot.confusion_matrix.ConfusionMatrixDisplay at 0x7f86747fe7a0>"
      ]
     },
     "execution_count": 25,
     "metadata": {},
     "output_type": "execute_result"
    },
    {
     "data": {
      "image/png": "[encoded data removed]",
      "text/plain": [
       "<Figure size 640x480 with 2 Axes>"
      ]
     },
     "metadata": {},
     "output_type": "display_data"
    }
   ],
   "source": [
    "chol_maxhr_20_mat = confusion_matrix(\n",
    "    pred_chol_maxhr_20[\"heart_disease\"],  # true labels\n",
    "    pred_chol_maxhr_20[\"predicted\"],  # predicted labels\n",
    "    labels=knn_fit_chol_maxhr_20.classes_, # specify the label for each class\n",
    ")\n",
    "disp_chol_maxhr_20 = ConfusionMatrixDisplay(\n",
    "    confusion_matrix=chol_maxhr_20_mat, display_labels=knn_fit_chol_maxhr_20.classes_\n",
    ")\n",
    "disp_chol_maxhr_20.plot()"
   ]
  },
  {
   "cell_type": "markdown",
   "id": "5979928c-2c71-49e3-b701-1039923d6494",
   "metadata": {},
   "source": [
    "We would choose K=20 based on the high test score and a low standard error."
   ]
  },
  {
   "cell_type": "code",
   "execution_count": null,
   "id": "3b259f2e-43aa-46f2-b5de-6a7e5c45eaab",
   "metadata": {},
   "outputs": [],
   "source": []
  }
 ],
 "metadata": {
  "kernelspec": {
   "display_name": "Python 3 (ipykernel)",
   "language": "python",
   "name": "python3"
  },
  "language_info": {
   "codemirror_mode": {
    "name": "ipython",
    "version": 3
   },
   "file_extension": ".py",
   "mimetype": "text/x-python",
   "name": "python",
   "nbconvert_exporter": "python",
   "pygments_lexer": "ipython3",
   "version": "3.10.8"
  }
 },
 "nbformat": 4,
 "nbformat_minor": 5
}
