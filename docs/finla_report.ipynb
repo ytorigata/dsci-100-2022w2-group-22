{
 "cells": [
  {
   "cell_type": "markdown",
   "id": "f2288165-04fa-44b6-bbb6-3e6bad1b7cb6",
   "metadata": {},
   "source": [
    "# Group 22 Project Final Report"
   ]
  },
  {
   "cell_type": "markdown",
   "id": "a508944a-d05e-43de-b444-cac18b767cc5",
   "metadata": {},
   "source": [
    "*An Analysis of the Risk of Developing Heart Disease for Individuals in Cleveland, Ohio.*"
   ]
  },
  {
   "cell_type": "markdown",
   "id": "17d3e912-dcc6-42d0-8170-3a85641a7fb7",
   "metadata": {},
   "source": [
    "## Introduction\n",
    "\n",
    "Cardiovascular disease includes any condition that affects the circulatory system. This results in negative impacts on the function of the heart and veins, which differ from different types of cardiovascular disease (Thiriet, 1970). Cardiovascular disease is also commonly known as heart disease (Thiriet, 1970). \n",
    "In order to save many lives, it is essential that individuals with heart disease are diagnosed early to start treatment as soon as possible (Pal et al., 2022). A model that can accurately predict the risk of developing cardiovascular disease would have the potential to save countless lives (Pal et al., 2022). \n",
    "By narrowing it down to specific factors such as cholesterol or blood pressure we can possibly give advice on proactive measures that are most important to minimize risk of heart disease."
   ]
  },
  {
   "cell_type": "markdown",
   "id": "c5ff06b5-00e7-4bcf-a847-3dfe0f429474",
   "metadata": {},
   "source": [
    "Therefore the question we intend to answer is: Can we predict which patients in Cleveland, Ohio are at the highest risk of developing heart disease?"
   ]
  },
  {
   "cell_type": "markdown",
   "id": "ab9cfba4-1cf8-4977-b2f1-a40420675c56",
   "metadata": {},
   "source": [
    "The dataset we will be using was retrieved from \"processed.cleveland.data\" in the Heart Disease Data Set (https://archive.ics.uci.edu/ml/machine-learning-databases/heart-disease/) provided by UCI Machine Learning Repository. The dataset includes the following 14 attributes which can be numerical or categorical."
   ]
  },
  {
   "cell_type": "markdown",
   "id": "6c356e29-002b-4148-9b90-40eeeb5f9838",
   "metadata": {},
   "source": [
    "## Summary of Preliminary Analysis\n",
    "\n",
    "We will start with a quick summary of our previous analysis. Our table describes which variables have apossible correlation with heart disease. We noticed some minor mistakes in our analysis but we will proceed with 2 numerical variables than seem to have correlation with heart disease"
   ]
  },
  {
   "cell_type": "markdown",
   "id": "22256454-3a72-4d45-a51b-ca324e90b56f",
   "metadata": {},
   "source": [
    "Now we have a 14-column dataset that contains six numerical variables and eight categorical variables. \n",
    "\n",
    "| # | Variable | Description | Value | Possible Correlation |\n",
    "|---|----------|-------------|-------|----------------------|\n",
    "| 1 | age | Individual's age | numerical | Yes |\n",
    "| 2 | sex | Individual's sex | male or female | Yes |\n",
    "| 3 | chest_pain | Chest pain type | Typical angina, Atypical angina, Non-anginal pain, or Asymptomatic | Yes |\n",
    "| 4 | resting_blood_pressure | Resting blood pressure (in mm Hg on admission to the hospital) | numerical | worth checking again  |\n",
    "| 5 | cholesterol | Serum cholestoral in mg/dL | numerical | need re-analysis  |\n",
    "| 6 | fasting_blood_sugar | Fasting blood sugar > 120 mg/dL | True or False | No |\n",
    "| 7 | resting_electrocardiographic_results | Resting electrocardiographic results | <ul><li>0: normal</li><li>1: having ST-T wave abnormality (T wave inversions and/or ST elevation or depression of > 0.05 mV)</li><li>2: showing probable or definite left ventricular hypertrophy by Estes' criteria</li></ul> | No |\n",
    "| 8 | max_heart_rate | Maximum heart rate achieved | numerical | Yes |\n",
    "| 9 | exercise_induced_angina | Exercise induced angina | Yes or No | Yes |\n",
    "| 10 | st_depression_exercise | ST depression induced by exercise relative to rest | numerical | Yes |\n",
    "| 11 | slope_st | The slope of the peak exercise ST segment | Upsloping, Flat, or Downsloping | Yes (but too technical) |\n",
    "| 12 | major_vessels | Number of major vessels (0-3) colored by flourosopy | numerical | Yes |\n",
    "| 13 | thal | Thalassemia | Normal, Fixed defect, or Reversable defect | Yes |\n",
    "| 14 | heart_disease | Diagnosis of presence of heart disease | diagnosed or undiagnosed | NA |"
   ]
  },
  {
   "cell_type": "code",
   "execution_count": null,
   "id": "1be5da2d-125d-408d-bfd4-d48b89912076",
   "metadata": {},
   "outputs": [],
   "source": []
  }
 ],
 "metadata": {
  "kernelspec": {
   "display_name": "Python 3 (ipykernel)",
   "language": "python",
   "name": "python3"
  },
  "language_info": {
   "codemirror_mode": {
    "name": "ipython",
    "version": 3
   },
   "file_extension": ".py",
   "mimetype": "text/x-python",
   "name": "python",
   "nbconvert_exporter": "python",
   "pygments_lexer": "ipython3",
   "version": "3.10.8"
  }
 },
 "nbformat": 4,
 "nbformat_minor": 5
}
