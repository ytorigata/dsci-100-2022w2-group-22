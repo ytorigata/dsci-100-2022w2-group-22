{
 "cells": [
  {
   "cell_type": "markdown",
   "id": "f2288165-04fa-44b6-bbb6-3e6bad1b7cb6",
   "metadata": {},
   "source": [
    "# Group 22 Project Final Report"
   ]
  },
  {
   "cell_type": "code",
   "execution_count": null,
   "id": "2ecb77cc-4d57-42ee-81f5-70fbe3303794",
   "metadata": {},
   "outputs": [],
   "source": []
  }
 ],
 "metadata": {
  "kernelspec": {
   "display_name": "Python 3 (ipykernel)",
   "language": "python",
   "name": "python3"
  },
  "language_info": {
   "codemirror_mode": {
    "name": "ipython",
    "version": 3
   },
   "file_extension": ".py",
   "mimetype": "text/x-python",
   "name": "python",
   "nbconvert_exporter": "python",
   "pygments_lexer": "ipython3",
   "version": "3.10.8"
  }
 },
 "nbformat": 4,
 "nbformat_minor": 5
}
